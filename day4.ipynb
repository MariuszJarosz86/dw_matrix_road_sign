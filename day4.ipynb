{
  "nbformat": 4,
  "nbformat_minor": 0,
  "metadata": {
    "colab": {
      "name": "day4.ipynb",
      "provenance": [],
      "collapsed_sections": [],
      "mount_file_id": "1fH0IqHMjTszuWEDCqU1D38DBRdH_63qc",
      "authorship_tag": "ABX9TyO0gX/RzzQM79uE62mEJYFH",
      "include_colab_link": true
    },
    "kernelspec": {
      "name": "python3",
      "display_name": "Python 3"
    },
    "accelerator": "GPU"
  },
  "cells": [
    {
      "cell_type": "markdown",
      "metadata": {
        "id": "view-in-github",
        "colab_type": "text"
      },
      "source": [
        "<a href=\"https://colab.research.google.com/github/MariuszJarosz86/dw_matrix_road_sign/blob/master/day4.ipynb\" target=\"_parent\"><img src=\"https://colab.research.google.com/assets/colab-badge.svg\" alt=\"Open In Colab\"/></a>"
      ]
    },
    {
      "cell_type": "code",
      "metadata": {
        "id": "Gd5rp2sYEMN3",
        "colab_type": "code",
        "outputId": "fa859379-12b7-41d4-9d36-b82335b28d83",
        "colab": {
          "base_uri": "https://localhost:8080/",
          "height": 53
        }
      },
      "source": [
        "import pandas as pd\n",
        "import numpy as np\n",
        "\n",
        "import os, datetime\n",
        "\n",
        "import tensorflow as tf\n",
        "from tensorflow.keras.models import Sequential\n",
        "from tensorflow.keras.layers import Conv2D, MaxPool2D, Dense, Flatten, Dropout\n",
        "from tensorflow.keras.utils import to_categorical\n",
        "\n",
        "import matplotlib.pyplot as plt\n",
        "\n",
        "from skimage import color, exposure\n",
        "\n",
        "from sklearn.metrics import accuracy_score\n",
        "\n",
        "%load_ext tensorboard"
      ],
      "execution_count": 39,
      "outputs": [
        {
          "output_type": "stream",
          "text": [
            "The tensorboard extension is already loaded. To reload it, use:\n",
            "  %reload_ext tensorboard\n"
          ],
          "name": "stdout"
        }
      ]
    },
    {
      "cell_type": "code",
      "metadata": {
        "id": "_yxJ2Yj5Fqra",
        "colab_type": "code",
        "outputId": "a8adf90c-13a1-4600-f93d-ebd5390e8657",
        "colab": {
          "base_uri": "https://localhost:8080/",
          "height": 35
        }
      },
      "source": [
        "cd \"/content/drive/My Drive/Colab Notebooks/matrix/matrix_three/dw_matrix_road_sign\""
      ],
      "execution_count": 2,
      "outputs": [
        {
          "output_type": "stream",
          "text": [
            "/content/drive/My Drive/Colab Notebooks/matrix/matrix_three/dw_matrix_road_sign\n"
          ],
          "name": "stdout"
        }
      ]
    },
    {
      "cell_type": "code",
      "metadata": {
        "id": "mgrpD952F2gi",
        "colab_type": "code",
        "colab": {}
      },
      "source": [
        "train = pd.read_pickle('data/train.p')\n",
        "test = pd.read_pickle('data/test.p')\n",
        "\n",
        "X_train, y_train = train['features'], train['labels']\n",
        "X_test, y_test = test['features'], test['labels']"
      ],
      "execution_count": 0,
      "outputs": []
    },
    {
      "cell_type": "code",
      "metadata": {
        "id": "LaPferNjGgO2",
        "colab_type": "code",
        "outputId": "6bd0ba0f-dbf6-4071-c702-54914dec7b66",
        "colab": {
          "base_uri": "https://localhost:8080/",
          "height": 35
        }
      },
      "source": [
        "len(np.unique(y_train))"
      ],
      "execution_count": 4,
      "outputs": [
        {
          "output_type": "execute_result",
          "data": {
            "text/plain": [
              "43"
            ]
          },
          "metadata": {
            "tags": []
          },
          "execution_count": 4
        }
      ]
    },
    {
      "cell_type": "code",
      "metadata": {
        "id": "kDZiHwq3Ijct",
        "colab_type": "code",
        "outputId": "9a109684-be6c-42fc-f94a-6f6e1539d50b",
        "colab": {
          "base_uri": "https://localhost:8080/",
          "height": 35
        }
      },
      "source": [
        "y_train"
      ],
      "execution_count": 5,
      "outputs": [
        {
          "output_type": "execute_result",
          "data": {
            "text/plain": [
              "array([41, 41, 41, ..., 25, 25, 25], dtype=uint8)"
            ]
          },
          "metadata": {
            "tags": []
          },
          "execution_count": 5
        }
      ]
    },
    {
      "cell_type": "code",
      "metadata": {
        "id": "TeWmGcxdI4Sr",
        "colab_type": "code",
        "outputId": "48bc9e71-f7ad-4414-f961-21217264c3c3",
        "colab": {
          "base_uri": "https://localhost:8080/",
          "height": 35
        }
      },
      "source": [
        "y_train[0]"
      ],
      "execution_count": 6,
      "outputs": [
        {
          "output_type": "execute_result",
          "data": {
            "text/plain": [
              "41"
            ]
          },
          "metadata": {
            "tags": []
          },
          "execution_count": 6
        }
      ]
    },
    {
      "cell_type": "code",
      "metadata": {
        "id": "I1EFtVloJAtB",
        "colab_type": "code",
        "outputId": "67c021d0-b756-425f-afe0-90f68c09b840",
        "colab": {
          "base_uri": "https://localhost:8080/",
          "height": 71
        }
      },
      "source": [
        "np.unique(y_train)"
      ],
      "execution_count": 7,
      "outputs": [
        {
          "output_type": "execute_result",
          "data": {
            "text/plain": [
              "array([ 0,  1,  2,  3,  4,  5,  6,  7,  8,  9, 10, 11, 12, 13, 14, 15, 16,\n",
              "       17, 18, 19, 20, 21, 22, 23, 24, 25, 26, 27, 28, 29, 30, 31, 32, 33,\n",
              "       34, 35, 36, 37, 38, 39, 40, 41, 42], dtype=uint8)"
            ]
          },
          "metadata": {
            "tags": []
          },
          "execution_count": 7
        }
      ]
    },
    {
      "cell_type": "code",
      "metadata": {
        "id": "FSiDG6PuIwuy",
        "colab_type": "code",
        "outputId": "b0e32ab8-0949-4b89-9dc6-fd13b348a6a6",
        "colab": {
          "base_uri": "https://localhost:8080/",
          "height": 71
        }
      },
      "source": [
        "to_categorical(y_train)[0]"
      ],
      "execution_count": 8,
      "outputs": [
        {
          "output_type": "execute_result",
          "data": {
            "text/plain": [
              "array([0., 0., 0., 0., 0., 0., 0., 0., 0., 0., 0., 0., 0., 0., 0., 0., 0.,\n",
              "       0., 0., 0., 0., 0., 0., 0., 0., 0., 0., 0., 0., 0., 0., 0., 0., 0.,\n",
              "       0., 0., 0., 0., 0., 0., 0., 1., 0.], dtype=float32)"
            ]
          },
          "metadata": {
            "tags": []
          },
          "execution_count": 8
        }
      ]
    },
    {
      "cell_type": "code",
      "metadata": {
        "id": "PBOz5qvmIz3-",
        "colab_type": "code",
        "outputId": "33692a2a-d4dc-4009-f3ce-85eaeba4a44a",
        "colab": {
          "base_uri": "https://localhost:8080/",
          "height": 35
        }
      },
      "source": [
        "y_train.ndim"
      ],
      "execution_count": 9,
      "outputs": [
        {
          "output_type": "execute_result",
          "data": {
            "text/plain": [
              "1"
            ]
          },
          "metadata": {
            "tags": []
          },
          "execution_count": 9
        }
      ]
    },
    {
      "cell_type": "code",
      "metadata": {
        "id": "nOrfsXjjJK5h",
        "colab_type": "code",
        "colab": {}
      },
      "source": [
        "if y_train.ndim ==1: y_train = to_categorical(y_train)\n",
        "if y_test.ndim ==1: y_test = to_categorical(y_test)"
      ],
      "execution_count": 0,
      "outputs": []
    },
    {
      "cell_type": "code",
      "metadata": {
        "id": "3StDmaYUJcQH",
        "colab_type": "code",
        "outputId": "fce3be35-6b19-4395-9fb8-3d4ca8b069e2",
        "colab": {
          "base_uri": "https://localhost:8080/",
          "height": 35
        }
      },
      "source": [
        "y_train.shape"
      ],
      "execution_count": 11,
      "outputs": [
        {
          "output_type": "execute_result",
          "data": {
            "text/plain": [
              "(34799, 43)"
            ]
          },
          "metadata": {
            "tags": []
          },
          "execution_count": 11
        }
      ]
    },
    {
      "cell_type": "code",
      "metadata": {
        "id": "P19aQc42J9lU",
        "colab_type": "code",
        "outputId": "7f4403a5-2b15-4c68-8836-a7760dd4c618",
        "colab": {
          "base_uri": "https://localhost:8080/",
          "height": 35
        }
      },
      "source": [
        "X_train.shape"
      ],
      "execution_count": 12,
      "outputs": [
        {
          "output_type": "execute_result",
          "data": {
            "text/plain": [
              "(34799, 32, 32, 3)"
            ]
          },
          "metadata": {
            "tags": []
          },
          "execution_count": 12
        }
      ]
    },
    {
      "cell_type": "code",
      "metadata": {
        "id": "Mdk07movKFgk",
        "colab_type": "code",
        "colab": {}
      },
      "source": [
        "input_shape = X_train.shape[1:]\n",
        "num_classes = y_train.shape[1]"
      ],
      "execution_count": 0,
      "outputs": []
    },
    {
      "cell_type": "code",
      "metadata": {
        "id": "8WiFMxWnJen6",
        "colab_type": "code",
        "outputId": "ca98e264-c102-47a6-dae6-4e3f9b2d33c6",
        "colab": {
          "base_uri": "https://localhost:8080/",
          "height": 53
        }
      },
      "source": [
        "model = Sequential([\n",
        "   Conv2D(filters=64, kernel_size=(3,3), activation='relu', input_shape = input_shape),\n",
        "\n",
        "   Flatten(),\n",
        "\n",
        "   Dense(units = num_classes, activation='softmax'),                \n",
        "])\n",
        "\n",
        "# model.summary()\n",
        "\n",
        "model.compile(loss='categorical_crossentropy', optimizer='Adam', metrics=['accuracy'])\n",
        "model.fit(X_train, y_train)"
      ],
      "execution_count": 14,
      "outputs": [
        {
          "output_type": "stream",
          "text": [
            "1088/1088 [==============================] - 5s 5ms/step - loss: 16.1589 - accuracy: 0.7945\n"
          ],
          "name": "stdout"
        },
        {
          "output_type": "execute_result",
          "data": {
            "text/plain": [
              "<tensorflow.python.keras.callbacks.History at 0x7f8f80085e48>"
            ]
          },
          "metadata": {
            "tags": []
          },
          "execution_count": 14
        }
      ]
    },
    {
      "cell_type": "code",
      "metadata": {
        "id": "mZUryZeKKxUI",
        "colab_type": "code",
        "colab": {}
      },
      "source": [
        "def get_cnn_v1(input_shape, num_classes):\n",
        "  return Sequential([\n",
        "    Conv2D(filters=64, kernel_size=(3,3), activation='relu', input_shape = input_shape),\n",
        "\n",
        "    Flatten(),\n",
        "\n",
        "    Dense(units = num_classes, activation='softmax'),                \n",
        "  ])\n",
        "  \n",
        "def train_model(model, X_train, y_train, params_fit={}):\n",
        "  model.compile(loss='categorical_crossentropy', optimizer='Adam', metrics=['accuracy'])\n",
        "\n",
        "  logdir = os.path.join('logs', datetime.datetime.now().strftime('%Y%m%d-%H%M%S'))\n",
        "  tensorboard_callback = tf.keras.callbacks.TensorBoard(logdir, histogram_freq=1)\n",
        "  \n",
        "  model.fit(\n",
        "      X_train, \n",
        "      y_train,\n",
        "      batch_size = params_fit.get('batch_size', 128),\n",
        "      epochs = params_fit.get('epochs',5),\n",
        "      verbose = params_fit.get('verbose', 1),\n",
        "      validation_data = params_fit.get('validation_data',(X_train, y_train)),\n",
        "      callbacks = [tensorboard_callback]\n",
        "      )\n",
        "  \n",
        "  return model"
      ],
      "execution_count": 0,
      "outputs": []
    },
    {
      "cell_type": "code",
      "metadata": {
        "id": "d20mFA6rMnNZ",
        "colab_type": "code",
        "outputId": "3668ef8a-b632-47aa-e2e3-56cfdb16dabe",
        "colab": {
          "base_uri": "https://localhost:8080/",
          "height": 197
        }
      },
      "source": [
        "model = get_cnn_v1(input_shape, num_classes)\n",
        "model_trained = train_model(model, X_train, y_train)"
      ],
      "execution_count": 18,
      "outputs": [
        {
          "output_type": "stream",
          "text": [
            "Epoch 1/5\n",
            "272/272 [==============================] - 5s 17ms/step - loss: 29.2370 - accuracy: 0.7587 - val_loss: 0.2425 - val_accuracy: 0.9424\n",
            "Epoch 2/5\n",
            "272/272 [==============================] - 5s 17ms/step - loss: 0.1972 - accuracy: 0.9530 - val_loss: 0.1870 - val_accuracy: 0.9602\n",
            "Epoch 3/5\n",
            "272/272 [==============================] - 4s 17ms/step - loss: 0.1324 - accuracy: 0.9686 - val_loss: 0.0923 - val_accuracy: 0.9785\n",
            "Epoch 4/5\n",
            "272/272 [==============================] - 5s 17ms/step - loss: 0.0959 - accuracy: 0.9769 - val_loss: 0.0728 - val_accuracy: 0.9851\n",
            "Epoch 5/5\n",
            "272/272 [==============================] - 5s 17ms/step - loss: 0.0913 - accuracy: 0.9797 - val_loss: 0.1418 - val_accuracy: 0.9704\n"
          ],
          "name": "stdout"
        }
      ]
    },
    {
      "cell_type": "code",
      "metadata": {
        "id": "PBzRNgkqO4em",
        "colab_type": "code",
        "colab": {
          "base_uri": "https://localhost:8080/",
          "height": 251
        },
        "outputId": "3122bc9f-caec-42ba-e430-d32247e7658f"
      },
      "source": [
        "y_pred_prob = model_trained.predict(X_test)\n",
        "y_pred_prob"
      ],
      "execution_count": 19,
      "outputs": [
        {
          "output_type": "execute_result",
          "data": {
            "text/plain": [
              "array([[1.8459166e-11, 1.4516522e-04, 2.0779930e-03, ..., 4.4910828e-04,\n",
              "        5.9449367e-02, 4.6659339e-02],\n",
              "       [2.0947636e-11, 5.4449509e-05, 2.8903410e-02, ..., 9.2022028e-04,\n",
              "        1.1641724e-04, 1.7439279e-03],\n",
              "       [4.2505534e-11, 3.6438220e-04, 6.9450698e-04, ..., 2.4266414e-04,\n",
              "        9.0386625e-03, 5.3149093e-02],\n",
              "       ...,\n",
              "       [1.9453196e-02, 1.6425507e-02, 1.2499058e-02, ..., 2.0971298e-02,\n",
              "        2.4127712e-02, 2.3263015e-02],\n",
              "       [1.8523885e-02, 2.3210084e-02, 1.1914507e-02, ..., 1.5551089e-02,\n",
              "        3.6730982e-02, 2.2139557e-02],\n",
              "       [1.4286675e-02, 2.3253115e-02, 9.9708121e-03, ..., 1.9407034e-02,\n",
              "        2.4416156e-02, 1.3732502e-02]], dtype=float32)"
            ]
          },
          "metadata": {
            "tags": []
          },
          "execution_count": 19
        }
      ]
    },
    {
      "cell_type": "code",
      "metadata": {
        "id": "yACYFYw6O4h_",
        "colab_type": "code",
        "colab": {
          "base_uri": "https://localhost:8080/",
          "height": 215
        },
        "outputId": "d2d98c1c-5a3f-44a8-c282-c50e269ef3fe"
      },
      "source": [
        "y_pred_prob[400]"
      ],
      "execution_count": 25,
      "outputs": [
        {
          "output_type": "execute_result",
          "data": {
            "text/plain": [
              "array([9.4528594e-05, 6.9944630e-04, 9.9920601e-01, 4.2866910e-09,\n",
              "       2.7592691e-08, 2.8470960e-12, 8.1224277e-10, 3.6735567e-18,\n",
              "       1.2020740e-12, 6.3455585e-10, 5.9640252e-17, 2.9924915e-23,\n",
              "       5.4939372e-18, 2.2033613e-09, 1.6458631e-12, 1.9188306e-10,\n",
              "       5.5595394e-13, 5.9417177e-27, 2.2726773e-18, 8.9939271e-26,\n",
              "       6.2373418e-15, 6.1165710e-19, 6.7916988e-24, 1.5996949e-16,\n",
              "       1.0116578e-18, 1.8541270e-18, 1.4927463e-17, 2.5164256e-22,\n",
              "       1.8224161e-12, 1.6798595e-15, 3.5007533e-23, 9.9263346e-16,\n",
              "       2.7134205e-15, 9.2907904e-12, 1.1156564e-11, 1.5562046e-12,\n",
              "       8.3707789e-12, 8.0203107e-22, 1.2838885e-13, 3.2713713e-17,\n",
              "       1.8554802e-16, 8.0351266e-16, 5.5769857e-18], dtype=float32)"
            ]
          },
          "metadata": {
            "tags": []
          },
          "execution_count": 25
        }
      ]
    },
    {
      "cell_type": "code",
      "metadata": {
        "id": "KjKfb_HNSYN6",
        "colab_type": "code",
        "colab": {}
      },
      "source": [
        "df = pd.read_csv('data/signnames.csv')\n",
        "labels_dict = df.to_dict()['b']"
      ],
      "execution_count": 0,
      "outputs": []
    },
    {
      "cell_type": "code",
      "metadata": {
        "id": "0P1ZnCpCR_H8",
        "colab_type": "code",
        "colab": {
          "base_uri": "https://localhost:8080/",
          "height": 35
        },
        "outputId": "19c9fa54-6af7-49db-c1d3-7b3d4344aa2c"
      },
      "source": [
        "labels_dict[ np.argmax(y_pred_prob[400]) ]"
      ],
      "execution_count": 30,
      "outputs": [
        {
          "output_type": "execute_result",
          "data": {
            "text/plain": [
              "'Speed limit (50km/h)'"
            ]
          },
          "metadata": {
            "tags": []
          },
          "execution_count": 30
        }
      ]
    },
    {
      "cell_type": "code",
      "metadata": {
        "id": "FgMbI5DmQ06W",
        "colab_type": "code",
        "colab": {
          "base_uri": "https://localhost:8080/",
          "height": 266
        },
        "outputId": "528391c9-b003-48da-af86-449e5896107d"
      },
      "source": [
        "plt.imshow(X_test[400]);"
      ],
      "execution_count": 26,
      "outputs": [
        {
          "output_type": "display_data",
          "data": {
            "image/png": "[encoded data removed]",
            "text/plain": [
              "<Figure size 432x288 with 1 Axes>"
            ]
          },
          "metadata": {
            "tags": []
          }
        }
      ]
    },
    {
      "cell_type": "code",
      "metadata": {
        "id": "VOb_z5JGQ09m",
        "colab_type": "code",
        "colab": {
          "base_uri": "https://localhost:8080/",
          "height": 283
        },
        "outputId": "6590e354-bfaa-4ef0-eec4-662b68cf154b"
      },
      "source": [
        "plt.bar(range(43), y_pred_prob[400])"
      ],
      "execution_count": 31,
      "outputs": [
        {
          "output_type": "execute_result",
          "data": {
            "text/plain": [
              "<BarContainer object of 43 artists>"
            ]
          },
          "metadata": {
            "tags": []
          },
          "execution_count": 31
        },
        {
          "output_type": "display_data",
          "data": {
            "image/png": "[encoded data removed]",
            "text/plain": [
              "<Figure size 432x288 with 1 Axes>"
            ]
          },
          "metadata": {
            "tags": []
          }
        }
      ]
    },
    {
      "cell_type": "code",
      "metadata": {
        "id": "skK2CZLpQ1BJ",
        "colab_type": "code",
        "colab": {}
      },
      "source": [
        "# Jeszcze raz po sprawdzeniu\n",
        "\n",
        "def predict(model_trained, X_test, y_test, scoring=accuracy_score):\n",
        "  y_test_norm = np.argmax(y_test, axis=1)\n",
        "\n",
        "  y_pred_prob = model_trained.predict(X_test)\n",
        "  y_pred = np.argmax(y_pred_prob, axis=1)\n",
        "\n",
        "  return scoring(y_test_norm, y_pred)"
      ],
      "execution_count": 0,
      "outputs": []
    },
    {
      "cell_type": "code",
      "metadata": {
        "id": "wa0mVbXMUYTE",
        "colab_type": "code",
        "colab": {
          "base_uri": "https://localhost:8080/",
          "height": 35
        },
        "outputId": "fb561519-e5b8-49cc-a29d-3ddb329861af"
      },
      "source": [
        "predict(model_trained, X_test, y_test)"
      ],
      "execution_count": 44,
      "outputs": [
        {
          "output_type": "execute_result",
          "data": {
            "text/plain": [
              "0.7875283446712018"
            ]
          },
          "metadata": {
            "tags": []
          },
          "execution_count": 44
        }
      ]
    },
    {
      "cell_type": "code",
      "metadata": {
        "id": "rcBA7_1dXxHm",
        "colab_type": "code",
        "colab": {}
      },
      "source": [
        "def train_and_predict(model):\n",
        "  model_trained = train_model(model, X_train, y_train)\n",
        "  return predict(model_trained, X_test, y_test)"
      ],
      "execution_count": 0,
      "outputs": []
    },
    {
      "cell_type": "code",
      "metadata": {
        "id": "61dYsYX7UYVq",
        "colab_type": "code",
        "colab": {
          "base_uri": "https://localhost:8080/",
          "height": 215
        },
        "outputId": "5669d051-cf0e-401c-998b-3383562e09af"
      },
      "source": [
        "def get_cnn_v2(input_shape, num_classes):\n",
        "  return Sequential([\n",
        "    Conv2D(filters=32, kernel_size=(3,3), activation='relu', input_shape = input_shape),\n",
        "    MaxPool2D(),\n",
        "    Dropout(0.3),\n",
        "\n",
        "    Conv2D(filters=64, kernel_size=(3,3), activation='relu'),\n",
        "    MaxPool2D(),\n",
        "    Dropout(0.3),\n",
        "\n",
        "    Flatten(),\n",
        "\n",
        "    Dense(units = 1024, activation='relu'),  \n",
        "    Dropout(0.3),\n",
        "    Dense(units = num_classes, activation='softmax'),                \n",
        "  ])\n",
        "\n",
        "\n",
        "train_and_predict(get_cnn_v2(input_shape, num_classes))"
      ],
      "execution_count": 48,
      "outputs": [
        {
          "output_type": "stream",
          "text": [
            "Epoch 1/5\n",
            "272/272 [==============================] - 4s 14ms/step - loss: 7.9948 - accuracy: 0.1863 - val_loss: 2.4587 - val_accuracy: 0.3650\n",
            "Epoch 2/5\n",
            "272/272 [==============================] - 4s 13ms/step - loss: 2.0600 - accuracy: 0.4040 - val_loss: 1.2102 - val_accuracy: 0.6570\n",
            "Epoch 3/5\n",
            "272/272 [==============================] - 4s 13ms/step - loss: 1.3298 - accuracy: 0.5948 - val_loss: 0.7118 - val_accuracy: 0.8219\n",
            "Epoch 4/5\n",
            "272/272 [==============================] - 4s 13ms/step - loss: 0.8697 - accuracy: 0.7325 - val_loss: 0.3423 - val_accuracy: 0.9202\n",
            "Epoch 5/5\n",
            "272/272 [==============================] - 4s 13ms/step - loss: 0.5676 - accuracy: 0.8284 - val_loss: 0.1918 - val_accuracy: 0.9608\n"
          ],
          "name": "stdout"
        },
        {
          "output_type": "execute_result",
          "data": {
            "text/plain": [
              "0.8562358276643991"
            ]
          },
          "metadata": {
            "tags": []
          },
          "execution_count": 48
        }
      ]
    },
    {
      "cell_type": "code",
      "metadata": {
        "id": "yiyFUPJbUYYG",
        "colab_type": "code",
        "colab": {
          "base_uri": "https://localhost:8080/",
          "height": 215
        },
        "outputId": "14bfa944-18bf-4959-acb2-29a2aeff0e09"
      },
      "source": [
        "def get_cnn_v3(input_shape, num_classes):\n",
        "  return Sequential([\n",
        "    Conv2D(filters=32, kernel_size=(3,3), activation='relu', input_shape = input_shape),\n",
        "    Conv2D(filters=32, kernel_size=(3,3), activation='relu'),\n",
        "    MaxPool2D(),\n",
        "    Dropout(0.3),\n",
        "\n",
        "    Conv2D(filters=64, kernel_size=(3,3), activation='relu'),\n",
        "    Conv2D(filters=64, kernel_size=(3,3), activation='relu'),\n",
        "    MaxPool2D(),\n",
        "    Dropout(0.3),\n",
        "\n",
        "    Flatten(),\n",
        "\n",
        "    Dense(units = 1024, activation='relu'),  \n",
        "    Dropout(0.3),\n",
        "    Dense(units = num_classes, activation='softmax'),                \n",
        "  ])\n",
        "\n",
        "\n",
        "train_and_predict(get_cnn_v3(input_shape, num_classes))"
      ],
      "execution_count": 49,
      "outputs": [
        {
          "output_type": "stream",
          "text": [
            "Epoch 1/5\n",
            "272/272 [==============================] - 5s 19ms/step - loss: 1.9302 - accuracy: 0.5825 - val_loss: 0.2624 - val_accuracy: 0.9508\n",
            "Epoch 2/5\n",
            "272/272 [==============================] - 5s 18ms/step - loss: 0.3676 - accuracy: 0.8920 - val_loss: 0.0738 - val_accuracy: 0.9822\n",
            "Epoch 3/5\n",
            "272/272 [==============================] - 5s 18ms/step - loss: 0.2197 - accuracy: 0.9361 - val_loss: 0.0434 - val_accuracy: 0.9896\n",
            "Epoch 4/5\n",
            "272/272 [==============================] - 5s 18ms/step - loss: 0.1444 - accuracy: 0.9594 - val_loss: 0.0246 - val_accuracy: 0.9953\n",
            "Epoch 5/5\n",
            "272/272 [==============================] - 5s 19ms/step - loss: 0.1074 - accuracy: 0.9685 - val_loss: 0.0153 - val_accuracy: 0.9958\n"
          ],
          "name": "stdout"
        },
        {
          "output_type": "execute_result",
          "data": {
            "text/plain": [
              "0.9718820861678005"
            ]
          },
          "metadata": {
            "tags": []
          },
          "execution_count": 49
        }
      ]
    },
    {
      "cell_type": "code",
      "metadata": {
        "id": "zk0zwVa-UYac",
        "colab_type": "code",
        "colab": {
          "base_uri": "https://localhost:8080/",
          "height": 737
        },
        "outputId": "0d24364f-05e8-4fc2-d18e-6b54276e83f0"
      },
      "source": [
        "def get_cnn_v4(input_shape, num_classes):\n",
        "  return Sequential([\n",
        "    Conv2D(filters=32, kernel_size=(3,3), activation='relu', input_shape = input_shape),\n",
        "    Conv2D(filters=32, kernel_size=(3,3), activation='relu', padding='same'),\n",
        "    MaxPool2D(),\n",
        "    Dropout(0.3),\n",
        "\n",
        "    Conv2D(filters=64, kernel_size=(3,3), activation='relu', padding='same'),\n",
        "    Conv2D(filters=64, kernel_size=(3,3), activation='relu'),\n",
        "    MaxPool2D(),\n",
        "    Dropout(0.3),\n",
        "\n",
        "    Conv2D(filters=64, kernel_size=(3,3), activation='relu', padding='same'),\n",
        "    Conv2D(filters=64, kernel_size=(3,3), activation='relu'),\n",
        "    MaxPool2D(),\n",
        "    Dropout(0.3),\n",
        "\n",
        "    Flatten(),\n",
        "\n",
        "    Dense(units = 1024, activation='relu'),  \n",
        "    Dropout(0.3),\n",
        "    Dense(units = num_classes, activation='softmax'),                \n",
        "  ])\n",
        "\n",
        "\n",
        "get_cnn_v4(input_shape, num_classes).summary()\n",
        "# train_and_predict(get_cnn_v4(input_shape, num_classes))"
      ],
      "execution_count": 57,
      "outputs": [
        {
          "output_type": "stream",
          "text": [
            "Model: \"sequential_16\"\n",
            "_________________________________________________________________\n",
            "Layer (type)                 Output Shape              Param #   \n",
            "=================================================================\n",
            "conv2d_52 (Conv2D)           (None, 30, 30, 32)        896       \n",
            "_________________________________________________________________\n",
            "conv2d_53 (Conv2D)           (None, 30, 30, 32)        9248      \n",
            "_________________________________________________________________\n",
            "max_pooling2d_30 (MaxPooling (None, 15, 15, 32)        0         \n",
            "_________________________________________________________________\n",
            "dropout_44 (Dropout)         (None, 15, 15, 32)        0         \n",
            "_________________________________________________________________\n",
            "conv2d_54 (Conv2D)           (None, 15, 15, 64)        18496     \n",
            "_________________________________________________________________\n",
            "conv2d_55 (Conv2D)           (None, 13, 13, 64)        36928     \n",
            "_________________________________________________________________\n",
            "max_pooling2d_31 (MaxPooling (None, 6, 6, 64)          0         \n",
            "_________________________________________________________________\n",
            "dropout_45 (Dropout)         (None, 6, 6, 64)          0         \n",
            "_________________________________________________________________\n",
            "conv2d_56 (Conv2D)           (None, 6, 6, 64)          36928     \n",
            "_________________________________________________________________\n",
            "conv2d_57 (Conv2D)           (None, 4, 4, 64)          36928     \n",
            "_________________________________________________________________\n",
            "max_pooling2d_32 (MaxPooling (None, 2, 2, 64)          0         \n",
            "_________________________________________________________________\n",
            "dropout_46 (Dropout)         (None, 2, 2, 64)          0         \n",
            "_________________________________________________________________\n",
            "flatten_16 (Flatten)         (None, 256)               0         \n",
            "_________________________________________________________________\n",
            "dense_29 (Dense)             (None, 1024)              263168    \n",
            "_________________________________________________________________\n",
            "dropout_47 (Dropout)         (None, 1024)              0         \n",
            "_________________________________________________________________\n",
            "dense_30 (Dense)             (None, 43)                44075     \n",
            "=================================================================\n",
            "Total params: 446,667\n",
            "Trainable params: 446,667\n",
            "Non-trainable params: 0\n",
            "_________________________________________________________________\n"
          ],
          "name": "stdout"
        }
      ]
    },
    {
      "cell_type": "code",
      "metadata": {
        "id": "q1pHDyBiUYcw",
        "colab_type": "code",
        "colab": {
          "base_uri": "https://localhost:8080/",
          "height": 215
        },
        "outputId": "9eaa2391-7029-432d-85b8-2f994dad37b9"
      },
      "source": [
        "def get_cnn_v4(input_shape, num_classes):\n",
        "  return Sequential([\n",
        "    Conv2D(filters=32, kernel_size=(3,3), activation='relu', input_shape = input_shape),\n",
        "    Conv2D(filters=32, kernel_size=(3,3), activation='relu', padding='same'),\n",
        "    MaxPool2D(),\n",
        "    Dropout(0.3),\n",
        "\n",
        "    Conv2D(filters=64, kernel_size=(3,3), activation='relu', padding='same'),\n",
        "    Conv2D(filters=64, kernel_size=(3,3), activation='relu'),\n",
        "    MaxPool2D(),\n",
        "    Dropout(0.3),\n",
        "\n",
        "    Conv2D(filters=64, kernel_size=(3,3), activation='relu', padding='same'),\n",
        "    Conv2D(filters=64, kernel_size=(3,3), activation='relu'),\n",
        "    MaxPool2D(),\n",
        "    Dropout(0.3),\n",
        "\n",
        "    Flatten(),\n",
        "\n",
        "    Dense(units = 1024, activation='relu'),  \n",
        "    Dropout(0.3),\n",
        "    Dense(units = num_classes, activation='softmax'),                \n",
        "  ])\n",
        "\n",
        "\n",
        "train_and_predict(get_cnn_v4(input_shape, num_classes))"
      ],
      "execution_count": 58,
      "outputs": [
        {
          "output_type": "stream",
          "text": [
            "Epoch 1/5\n",
            "272/272 [==============================] - 6s 22ms/step - loss: 2.8203 - accuracy: 0.2660 - val_loss: 1.2033 - val_accuracy: 0.6279\n",
            "Epoch 2/5\n",
            "272/272 [==============================] - 6s 21ms/step - loss: 0.9679 - accuracy: 0.6979 - val_loss: 0.2272 - val_accuracy: 0.9357\n",
            "Epoch 3/5\n",
            "272/272 [==============================] - 6s 21ms/step - loss: 0.3893 - accuracy: 0.8817 - val_loss: 0.0934 - val_accuracy: 0.9765\n",
            "Epoch 4/5\n",
            "272/272 [==============================] - 6s 21ms/step - loss: 0.2403 - accuracy: 0.9276 - val_loss: 0.0446 - val_accuracy: 0.9872\n",
            "Epoch 5/5\n",
            "272/272 [==============================] - 6s 21ms/step - loss: 0.1861 - accuracy: 0.9443 - val_loss: 0.0391 - val_accuracy: 0.9893\n"
          ],
          "name": "stdout"
        },
        {
          "output_type": "execute_result",
          "data": {
            "text/plain": [
              "0.9591836734693877"
            ]
          },
          "metadata": {
            "tags": []
          },
          "execution_count": 58
        }
      ]
    },
    {
      "cell_type": "code",
      "metadata": {
        "id": "sMsbVDy5UYe8",
        "colab_type": "code",
        "colab": {
          "base_uri": "https://localhost:8080/",
          "height": 215
        },
        "outputId": "68ccd018-482c-4b5f-901b-d375732b0d38"
      },
      "source": [
        "def get_cnn_v5(input_shape, num_classes):\n",
        "  return Sequential([\n",
        "    Conv2D(filters=32, kernel_size=(3,3), activation='relu', input_shape = input_shape),\n",
        "    Conv2D(filters=32, kernel_size=(3,3), activation='relu', padding='same'),\n",
        "    MaxPool2D(),\n",
        "    Dropout(0.3),\n",
        "\n",
        "    Conv2D(filters=64, kernel_size=(3,3), activation='relu', padding='same'),\n",
        "    Conv2D(filters=64, kernel_size=(3,3), activation='relu'),\n",
        "    MaxPool2D(),\n",
        "    Dropout(0.3),\n",
        "\n",
        "    Conv2D(filters=64, kernel_size=(3,3), activation='relu', padding='same'),\n",
        "    Conv2D(filters=64, kernel_size=(3,3), activation='relu'),\n",
        "    MaxPool2D(),\n",
        "    Dropout(0.3),\n",
        "\n",
        "    Flatten(),\n",
        "\n",
        "    Dense(units = 1024, activation='relu'),  \n",
        "    Dropout(0.3),\n",
        "\n",
        "    Dense(units = 1024, activation='relu'),  \n",
        "    Dropout(0.3),\n",
        "\n",
        "    Dense(units = num_classes, activation='softmax'),                \n",
        "  ])\n",
        "\n",
        "# get_cnn_v5((32,32,1), num_classes).summary()\n",
        "train_and_predict(get_cnn_v5(input_shape, num_classes))"
      ],
      "execution_count": 94,
      "outputs": [
        {
          "output_type": "stream",
          "text": [
            "Epoch 1/5\n",
            "272/272 [==============================] - 6s 23ms/step - loss: 2.4806 - accuracy: 0.3201 - val_loss: 0.8324 - val_accuracy: 0.7419\n",
            "Epoch 2/5\n",
            "272/272 [==============================] - 6s 22ms/step - loss: 0.7573 - accuracy: 0.7596 - val_loss: 0.2022 - val_accuracy: 0.9428\n",
            "Epoch 3/5\n",
            "272/272 [==============================] - 6s 22ms/step - loss: 0.3514 - accuracy: 0.8904 - val_loss: 0.0841 - val_accuracy: 0.9757\n",
            "Epoch 4/5\n",
            "272/272 [==============================] - 6s 22ms/step - loss: 0.2296 - accuracy: 0.9305 - val_loss: 0.0407 - val_accuracy: 0.9887\n",
            "Epoch 5/5\n",
            "272/272 [==============================] - 6s 22ms/step - loss: 0.1802 - accuracy: 0.9481 - val_loss: 0.0414 - val_accuracy: 0.9889\n"
          ],
          "name": "stdout"
        },
        {
          "output_type": "execute_result",
          "data": {
            "text/plain": [
              "0.9630385487528345"
            ]
          },
          "metadata": {
            "tags": []
          },
          "execution_count": 94
        }
      ]
    },
    {
      "cell_type": "code",
      "metadata": {
        "id": "JsP5ShwyUYhO",
        "colab_type": "code",
        "colab": {
          "base_uri": "https://localhost:8080/",
          "height": 35
        },
        "outputId": "ccb4dc50-e807-409a-b524-7d3f867954d8"
      },
      "source": [
        "X_train[0].shape"
      ],
      "execution_count": 60,
      "outputs": [
        {
          "output_type": "execute_result",
          "data": {
            "text/plain": [
              "(32, 32, 3)"
            ]
          },
          "metadata": {
            "tags": []
          },
          "execution_count": 60
        }
      ]
    },
    {
      "cell_type": "code",
      "metadata": {
        "id": "iXj2m1u9UYjV",
        "colab_type": "code",
        "colab": {
          "base_uri": "https://localhost:8080/",
          "height": 35
        },
        "outputId": "8beb5c09-d15b-4826-9b0c-445dfd9c7460"
      },
      "source": [
        "color.rgb2gray(X_train[0]).shape"
      ],
      "execution_count": 61,
      "outputs": [
        {
          "output_type": "execute_result",
          "data": {
            "text/plain": [
              "(32, 32)"
            ]
          },
          "metadata": {
            "tags": []
          },
          "execution_count": 61
        }
      ]
    },
    {
      "cell_type": "code",
      "metadata": {
        "id": "lu-9hmLWUYn9",
        "colab_type": "code",
        "colab": {
          "base_uri": "https://localhost:8080/",
          "height": 284
        },
        "outputId": "dae67656-cf90-4833-b6dd-9d2df1093931"
      },
      "source": [
        "plt.imshow(color.rgb2gray(X_train[0]))"
      ],
      "execution_count": 63,
      "outputs": [
        {
          "output_type": "execute_result",
          "data": {
            "text/plain": [
              "<matplotlib.image.AxesImage at 0x7f8f5c8abb70>"
            ]
          },
          "metadata": {
            "tags": []
          },
          "execution_count": 63
        },
        {
          "output_type": "display_data",
          "data": {
            "image/png": "[encoded data removed]",
            "text/plain": [
              "<Figure size 432x288 with 1 Axes>"
            ]
          },
          "metadata": {
            "tags": []
          }
        }
      ]
    },
    {
      "cell_type": "code",
      "metadata": {
        "id": "C003DNTTUYvU",
        "colab_type": "code",
        "colab": {}
      },
      "source": [
        "X_train_gray = color.rgb2gray(X_train).reshape(-1,32,32,1)\n",
        "X_test_gray = color.rgb2gray(X_test).reshape(-1,32,32,1)"
      ],
      "execution_count": 0,
      "outputs": []
    },
    {
      "cell_type": "code",
      "metadata": {
        "id": "QdjxdAwbUYxH",
        "colab_type": "code",
        "colab": {
          "base_uri": "https://localhost:8080/",
          "height": 215
        },
        "outputId": "9b19aea8-59cd-4e20-db7e-6ddb0154946c"
      },
      "source": [
        "model = get_cnn_v5((32,32,1), num_classes)\n",
        "model_trained = train_model(model, X_train_gray, y_train, params_fit={})\n",
        "predict(model_trained, X_test_gray, y_test)"
      ],
      "execution_count": 71,
      "outputs": [
        {
          "output_type": "stream",
          "text": [
            "Epoch 1/5\n",
            "272/272 [==============================] - 6s 23ms/step - loss: 2.5309 - accuracy: 0.2873 - val_loss: 0.6023 - val_accuracy: 0.8209\n",
            "Epoch 2/5\n",
            "272/272 [==============================] - 6s 22ms/step - loss: 0.4930 - accuracy: 0.8457 - val_loss: 0.1123 - val_accuracy: 0.9640\n",
            "Epoch 3/5\n",
            "272/272 [==============================] - 6s 22ms/step - loss: 0.2241 - accuracy: 0.9290 - val_loss: 0.0593 - val_accuracy: 0.9822\n",
            "Epoch 4/5\n",
            "272/272 [==============================] - 6s 22ms/step - loss: 0.1510 - accuracy: 0.9537 - val_loss: 0.0350 - val_accuracy: 0.9899\n",
            "Epoch 5/5\n",
            "272/272 [==============================] - 6s 22ms/step - loss: 0.1129 - accuracy: 0.9647 - val_loss: 0.0259 - val_accuracy: 0.9925\n"
          ],
          "name": "stdout"
        },
        {
          "output_type": "execute_result",
          "data": {
            "text/plain": [
              "0.9580498866213152"
            ]
          },
          "metadata": {
            "tags": []
          },
          "execution_count": 71
        }
      ]
    },
    {
      "cell_type": "code",
      "metadata": {
        "id": "ajEmNqCKUYz4",
        "colab_type": "code",
        "colab": {
          "base_uri": "https://localhost:8080/",
          "height": 215
        },
        "outputId": "fa6165ef-ea34-4419-a949-c7cc4d8d3de3"
      },
      "source": [
        "def get_cnn_v6(input_shape, num_classes):\n",
        "  return Sequential([\n",
        "    Conv2D(filters=64, kernel_size=(3,3), activation='relu', input_shape = input_shape),\n",
        "    Conv2D(filters=64, kernel_size=(3,3), activation='relu', padding='same'),\n",
        "    MaxPool2D(),\n",
        "    Dropout(0.4),\n",
        "\n",
        "    Conv2D(filters=128, kernel_size=(3,3), activation='relu', padding='same'),\n",
        "    Conv2D(filters=128, kernel_size=(3,3), activation='relu'),\n",
        "    MaxPool2D(),\n",
        "    Dropout(0.3),\n",
        "\n",
        "    Conv2D(filters=128, kernel_size=(3,3), activation='relu', padding='same'),\n",
        "    Conv2D(filters=128, kernel_size=(3,3), activation='relu'),\n",
        "    MaxPool2D(),\n",
        "    Dropout(0.3),\n",
        "\n",
        "    Flatten(),\n",
        "\n",
        "    Dense(units = 1024, activation='relu'),  \n",
        "    Dropout(0.3),\n",
        "\n",
        "    Dense(units = 1024, activation='relu'),  \n",
        "    Dropout(0.3),\n",
        "\n",
        "    Dense(units = num_classes, activation='softmax'),                \n",
        "  ])\n",
        "\n",
        "# get_cnn_v6((32,32,1), num_classes).summary()\n",
        "model = get_cnn_v6((32,32,1), num_classes)\n",
        "model_trained = train_model(model, X_train_gray, y_train, params_fit={})\n",
        "predict(model_trained, X_test_gray, y_test)"
      ],
      "execution_count": 89,
      "outputs": [
        {
          "output_type": "stream",
          "text": [
            "Epoch 1/5\n",
            "272/272 [==============================] - 11s 42ms/step - loss: 1.9945 - accuracy: 0.4223 - val_loss: 0.3643 - val_accuracy: 0.8852\n",
            "Epoch 2/5\n",
            "272/272 [==============================] - 11s 41ms/step - loss: 0.3175 - accuracy: 0.8967 - val_loss: 0.1136 - val_accuracy: 0.9642\n",
            "Epoch 3/5\n",
            "272/272 [==============================] - 11s 41ms/step - loss: 0.1411 - accuracy: 0.9556 - val_loss: 0.0353 - val_accuracy: 0.9907\n",
            "Epoch 4/5\n",
            "272/272 [==============================] - 11s 41ms/step - loss: 0.0916 - accuracy: 0.9714 - val_loss: 0.0267 - val_accuracy: 0.9918\n",
            "Epoch 5/5\n",
            "272/272 [==============================] - 11s 41ms/step - loss: 0.0632 - accuracy: 0.9801 - val_loss: 0.0251 - val_accuracy: 0.9925\n"
          ],
          "name": "stdout"
        },
        {
          "output_type": "execute_result",
          "data": {
            "text/plain": [
              "0.9718820861678005"
            ]
          },
          "metadata": {
            "tags": []
          },
          "execution_count": 89
        }
      ]
    },
    {
      "cell_type": "code",
      "metadata": {
        "id": "48ErwYtYUY1_",
        "colab_type": "code",
        "colab": {
          "base_uri": "https://localhost:8080/",
          "height": 395
        },
        "outputId": "8793583d-9673-408f-8ecf-e95b6f50a26e"
      },
      "source": [
        "def get_cnn_v7(input_shape, num_classes):\n",
        "    return Sequential([\n",
        "    Conv2D(filters=64, kernel_size=(3,3), activation='relu', input_shape = input_shape),\n",
        "    Conv2D(filters=64, kernel_size=(3,3), activation='relu', padding='same'),\n",
        "    MaxPool2D(),\n",
        "    Dropout(0.4),\n",
        "\n",
        "    Conv2D(filters=128, kernel_size=(3,3), activation='relu', padding='same'),\n",
        "    Conv2D(filters=128, kernel_size=(3,3), activation='relu'),\n",
        "    MaxPool2D(),\n",
        "    Dropout(0.3),\n",
        "\n",
        "    Conv2D(filters=128, kernel_size=(3,3), activation='relu', padding='same'),\n",
        "    Conv2D(filters=128, kernel_size=(3,3), activation='relu'),\n",
        "    MaxPool2D(),\n",
        "    Dropout(0.3),\n",
        "\n",
        "    Flatten(),\n",
        "\n",
        "    Dense(units = 1024, activation='relu'),  \n",
        "    Dropout(0.3),\n",
        "\n",
        "    Dense(units = 1024, activation='relu'),  \n",
        "    Dropout(0.3),\n",
        "\n",
        "    Dense(units = num_classes, activation='softmax'),                \n",
        "  ])\n",
        "\n",
        "# get_cnn_v7((32,32,1), num_classes).summary()\n",
        "model = get_cnn_v7((32,32,1), num_classes)\n",
        "params_fit = {\n",
        "    'epochs': 10\n",
        "}\n",
        "model_trained = train_model(model, X_train_gray, y_train, params_fit)\n",
        "predict(model_trained, X_test_gray, y_test)"
      ],
      "execution_count": 100,
      "outputs": [
        {
          "output_type": "stream",
          "text": [
            "Epoch 1/10\n",
            "272/272 [==============================] - 11s 42ms/step - loss: 2.6799 - accuracy: 0.2456 - val_loss: 0.6766 - val_accuracy: 0.7784\n",
            "Epoch 2/10\n",
            "272/272 [==============================] - 11s 41ms/step - loss: 0.4707 - accuracy: 0.8460 - val_loss: 0.1208 - val_accuracy: 0.9632\n",
            "Epoch 3/10\n",
            "272/272 [==============================] - 11s 41ms/step - loss: 0.1715 - accuracy: 0.9465 - val_loss: 0.0370 - val_accuracy: 0.9898\n",
            "Epoch 4/10\n",
            "272/272 [==============================] - 11s 41ms/step - loss: 0.1096 - accuracy: 0.9655 - val_loss: 0.0229 - val_accuracy: 0.9934\n",
            "Epoch 5/10\n",
            "272/272 [==============================] - 11s 41ms/step - loss: 0.0810 - accuracy: 0.9740 - val_loss: 0.0153 - val_accuracy: 0.9956\n",
            "Epoch 6/10\n",
            "272/272 [==============================] - 11s 41ms/step - loss: 0.0689 - accuracy: 0.9791 - val_loss: 0.0154 - val_accuracy: 0.9958\n",
            "Epoch 7/10\n",
            "272/272 [==============================] - 11s 41ms/step - loss: 0.0559 - accuracy: 0.9832 - val_loss: 0.0090 - val_accuracy: 0.9971\n",
            "Epoch 8/10\n",
            "272/272 [==============================] - 11s 41ms/step - loss: 0.0503 - accuracy: 0.9844 - val_loss: 0.0103 - val_accuracy: 0.9969\n",
            "Epoch 9/10\n",
            "272/272 [==============================] - 11s 40ms/step - loss: 0.0430 - accuracy: 0.9874 - val_loss: 0.0061 - val_accuracy: 0.9982\n",
            "Epoch 10/10\n",
            "272/272 [==============================] - 11s 40ms/step - loss: 0.0447 - accuracy: 0.9869 - val_loss: 0.0033 - val_accuracy: 0.9992\n"
          ],
          "name": "stdout"
        },
        {
          "output_type": "execute_result",
          "data": {
            "text/plain": [
              "0.982766439909297"
            ]
          },
          "metadata": {
            "tags": []
          },
          "execution_count": 100
        }
      ]
    },
    {
      "cell_type": "code",
      "metadata": {
        "id": "7ZRfgLaFUY4I",
        "colab_type": "code",
        "colab": {
          "base_uri": "https://localhost:8080/",
          "height": 266
        },
        "outputId": "56719b1a-d81c-4f70-d4db-4539374380fb"
      },
      "source": [
        "plt.imshow(color.rgb2gray(X_train[0]), cmap=plt.get_cmap('gray'));"
      ],
      "execution_count": 73,
      "outputs": [
        {
          "output_type": "display_data",
          "data": {
            "image/png": "[encoded data removed]",
            "text/plain": [
              "<Figure size 432x288 with 1 Axes>"
            ]
          },
          "metadata": {
            "tags": []
          }
        }
      ]
    }
  ]
}