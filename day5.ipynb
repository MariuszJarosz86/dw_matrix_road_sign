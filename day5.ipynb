{
  "nbformat": 4,
  "nbformat_minor": 0,
  "metadata": {
    "colab": {
      "name": "day5.ipynb",
      "provenance": [],
      "collapsed_sections": [],
      "mount_file_id": "19D281EdhEfeTAXqPLFC8yg69Zkd-yICi",
      "authorship_tag": "ABX9TyMU0c2PfxKDB53BbPBsYpPM",
      "include_colab_link": true
    },
    "kernelspec": {
      "name": "python3",
      "display_name": "Python 3"
    },
    "accelerator": "GPU"
  },
  "cells": [
    {
      "cell_type": "markdown",
      "metadata": {
        "id": "view-in-github",
        "colab_type": "text"
      },
      "source": [
        "<a href=\"https://colab.research.google.com/github/MariuszJarosz86/dw_matrix_road_sign/blob/master/day5.ipynb\" target=\"_parent\"><img src=\"https://colab.research.google.com/assets/colab-badge.svg\" alt=\"Open In Colab\"/></a>"
      ]
    },
    {
      "cell_type": "code",
      "metadata": {
        "id": "avSSC6Q7BBIB",
        "colab_type": "code",
        "colab": {
          "base_uri": "https://localhost:8080/",
          "height": 179
        },
        "outputId": "a1a66e20-8bf8-4b87-aef7-1e6b9b671649"
      },
      "source": [
        "!pip install hyperopt"
      ],
      "execution_count": 1,
      "outputs": [
        {
          "output_type": "stream",
          "text": [
            "Requirement already satisfied: hyperopt in /usr/local/lib/python3.6/dist-packages (0.1.2)\n",
            "Requirement already satisfied: tqdm in /usr/local/lib/python3.6/dist-packages (from hyperopt) (4.38.0)\n",
            "Requirement already satisfied: numpy in /usr/local/lib/python3.6/dist-packages (from hyperopt) (1.18.2)\n",
            "Requirement already satisfied: future in /usr/local/lib/python3.6/dist-packages (from hyperopt) (0.16.0)\n",
            "Requirement already satisfied: pymongo in /usr/local/lib/python3.6/dist-packages (from hyperopt) (3.10.1)\n",
            "Requirement already satisfied: networkx in /usr/local/lib/python3.6/dist-packages (from hyperopt) (2.4)\n",
            "Requirement already satisfied: scipy in /usr/local/lib/python3.6/dist-packages (from hyperopt) (1.4.1)\n",
            "Requirement already satisfied: six in /usr/local/lib/python3.6/dist-packages (from hyperopt) (1.12.0)\n",
            "Requirement already satisfied: decorator>=4.3.0 in /usr/local/lib/python3.6/dist-packages (from networkx->hyperopt) (4.4.2)\n"
          ],
          "name": "stdout"
        }
      ]
    },
    {
      "cell_type": "code",
      "metadata": {
        "id": "TVda5eN8Bak7",
        "colab_type": "code",
        "colab": {
          "base_uri": "https://localhost:8080/",
          "height": 53
        },
        "outputId": "66898382-e744-4f63-c097-e13d33a21093"
      },
      "source": [
        "import pandas as pd\n",
        "import numpy as np\n",
        "\n",
        "import os, datetime\n",
        "\n",
        "import tensorflow as tf\n",
        "from tensorflow.keras.models import Sequential\n",
        "from tensorflow.keras.layers import Conv2D, MaxPool2D, Dense, Flatten, Dropout\n",
        "from tensorflow.keras.utils import to_categorical\n",
        "\n",
        "import matplotlib.pyplot as plt\n",
        "\n",
        "from skimage import color, exposure\n",
        "\n",
        "from sklearn.metrics import accuracy_score\n",
        "\n",
        "from hyperopt import hp, STATUS_OK, tpe, Trials, fmin\n",
        "\n",
        "%load_ext tensorboard"
      ],
      "execution_count": 14,
      "outputs": [
        {
          "output_type": "stream",
          "text": [
            "The tensorboard extension is already loaded. To reload it, use:\n",
            "  %reload_ext tensorboard\n"
          ],
          "name": "stdout"
        }
      ]
    },
    {
      "cell_type": "code",
      "metadata": {
        "id": "MD44dQOVCUvZ",
        "colab_type": "code",
        "colab": {
          "base_uri": "https://localhost:8080/",
          "height": 35
        },
        "outputId": "4636f663-7289-49dd-82c2-5271f364671f"
      },
      "source": [
        "cd \"/content/drive/My Drive/Colab Notebooks/matrix/matrix_three/dw_matrix_road_sign\""
      ],
      "execution_count": 3,
      "outputs": [
        {
          "output_type": "stream",
          "text": [
            "/content/drive/My Drive/Colab Notebooks/matrix/matrix_three/dw_matrix_road_sign\n"
          ],
          "name": "stdout"
        }
      ]
    },
    {
      "cell_type": "code",
      "metadata": {
        "id": "bzOo98eeChTP",
        "colab_type": "code",
        "colab": {}
      },
      "source": [
        "train = pd.read_pickle('data/train.p')\n",
        "test = pd.read_pickle('data/test.p')\n",
        "\n",
        "X_train, y_train = train['features'], train['labels']\n",
        "X_test, y_test = test['features'], test['labels']"
      ],
      "execution_count": 0,
      "outputs": []
    },
    {
      "cell_type": "code",
      "metadata": {
        "id": "dMkLowmnCr9M",
        "colab_type": "code",
        "colab": {}
      },
      "source": [
        "if y_train.ndim ==1: y_train = to_categorical(y_train)\n",
        "if y_test.ndim ==1: y_test = to_categorical(y_test)\n",
        "\n",
        "input_shape = X_train.shape[1:]\n",
        "num_classes = y_train.shape[1]"
      ],
      "execution_count": 0,
      "outputs": []
    },
    {
      "cell_type": "code",
      "metadata": {
        "id": "PEu-dNVkCwxm",
        "colab_type": "code",
        "colab": {}
      },
      "source": [
        "def train_model(model, X_train, y_train, params_fit={}):\n",
        "  model.compile(loss='categorical_crossentropy', optimizer='Adam', metrics=['accuracy'])\n",
        "\n",
        "  logdir = os.path.join('logs', datetime.datetime.now().strftime('%Y%m%d-%H%M%S'))\n",
        "  tensorboard_callback = tf.keras.callbacks.TensorBoard(logdir, histogram_freq=1)\n",
        "  \n",
        "  model.fit(\n",
        "      X_train, \n",
        "      y_train,\n",
        "      batch_size = params_fit.get('batch_size', 128),\n",
        "      epochs = params_fit.get('epochs',5),\n",
        "      verbose = params_fit.get('verbose', 1),\n",
        "      validation_data = params_fit.get('validation_data',(X_train, y_train)),\n",
        "      callbacks = [tensorboard_callback]\n",
        "      )\n",
        "  \n",
        "  return model\n",
        "\n",
        "def predict(model_trained, X_test, y_test, scoring=accuracy_score):\n",
        "  y_test_norm = np.argmax(y_test, axis=1)\n",
        "\n",
        "  y_pred_prob = model_trained.predict(X_test)\n",
        "  y_pred = np.argmax(y_pred_prob, axis=1)\n",
        "\n",
        "  return scoring(y_test_norm, y_pred)"
      ],
      "execution_count": 0,
      "outputs": []
    },
    {
      "cell_type": "code",
      "metadata": {
        "id": "GVn5Mee6DeBQ",
        "colab_type": "code",
        "colab": {}
      },
      "source": [
        "def get_cnn_v5(input_shape, num_classes):\n",
        "  return Sequential([\n",
        "    Conv2D(filters=32, kernel_size=(3,3), activation='relu', input_shape = input_shape),\n",
        "    Conv2D(filters=32, kernel_size=(3,3), activation='relu', padding='same'),\n",
        "    MaxPool2D(),\n",
        "    Dropout(0.3),\n",
        "\n",
        "    Conv2D(filters=64, kernel_size=(3,3), activation='relu', padding='same'),\n",
        "    Conv2D(filters=64, kernel_size=(3,3), activation='relu'),\n",
        "    MaxPool2D(),\n",
        "    Dropout(0.3),\n",
        "\n",
        "    Conv2D(filters=64, kernel_size=(3,3), activation='relu', padding='same'),\n",
        "    Conv2D(filters=64, kernel_size=(3,3), activation='relu'),\n",
        "    MaxPool2D(),\n",
        "    Dropout(0.3),\n",
        "\n",
        "    Flatten(),\n",
        "\n",
        "    Dense(units = 1024, activation='relu'),  \n",
        "    Dropout(0.3),\n",
        "\n",
        "    Dense(units = 1024, activation='relu'),  \n",
        "    Dropout(0.3),\n",
        "\n",
        "    Dense(units = num_classes, activation='softmax'),                \n",
        "  ])"
      ],
      "execution_count": 0,
      "outputs": []
    },
    {
      "cell_type": "code",
      "metadata": {
        "id": "XK3gIEQoDfjg",
        "colab_type": "code",
        "colab": {
          "base_uri": "https://localhost:8080/",
          "height": 215
        },
        "outputId": "b5028062-38f0-413e-f79c-b801ade35451"
      },
      "source": [
        "model = get_cnn_v5(input_shape, num_classes)\n",
        "model_trained = train_model(model, X_train, y_train)\n",
        "predict(model_trained, X_test, y_test)"
      ],
      "execution_count": 9,
      "outputs": [
        {
          "output_type": "stream",
          "text": [
            "Epoch 1/5\n",
            "272/272 [==============================] - 4s 16ms/step - loss: 2.7640 - accuracy: 0.2533 - val_loss: 1.1726 - val_accuracy: 0.6211\n",
            "Epoch 2/5\n",
            "272/272 [==============================] - 4s 15ms/step - loss: 0.8847 - accuracy: 0.7217 - val_loss: 0.2311 - val_accuracy: 0.9376\n",
            "Epoch 3/5\n",
            "272/272 [==============================] - 4s 15ms/step - loss: 0.3590 - accuracy: 0.8908 - val_loss: 0.0753 - val_accuracy: 0.9754\n",
            "Epoch 4/5\n",
            "272/272 [==============================] - 4s 15ms/step - loss: 0.2282 - accuracy: 0.9322 - val_loss: 0.0459 - val_accuracy: 0.9868\n",
            "Epoch 5/5\n",
            "272/272 [==============================] - 4s 15ms/step - loss: 0.1680 - accuracy: 0.9509 - val_loss: 0.0392 - val_accuracy: 0.9887\n"
          ],
          "name": "stdout"
        },
        {
          "output_type": "execute_result",
          "data": {
            "text/plain": [
              "0.9630385487528345"
            ]
          },
          "metadata": {
            "tags": []
          },
          "execution_count": 9
        }
      ]
    },
    {
      "cell_type": "code",
      "metadata": {
        "id": "ZICQhDcTE-KO",
        "colab_type": "code",
        "colab": {
          "base_uri": "https://localhost:8080/",
          "height": 53
        },
        "outputId": "ae190f35-8e63-48e9-b209-1b114a3ae1c2"
      },
      "source": [
        "model_trained.evaluate(X_test, y_test)[1]"
      ],
      "execution_count": 11,
      "outputs": [
        {
          "output_type": "stream",
          "text": [
            "138/138 [==============================] - 0s 3ms/step - loss: 0.1265 - accuracy: 0.9630\n"
          ],
          "name": "stdout"
        },
        {
          "output_type": "execute_result",
          "data": {
            "text/plain": [
              "0.9630385637283325"
            ]
          },
          "metadata": {
            "tags": []
          },
          "execution_count": 11
        }
      ]
    },
    {
      "cell_type": "code",
      "metadata": {
        "id": "LUWsjnl2IXdo",
        "colab_type": "code",
        "colab": {}
      },
      "source": [
        "def get_model(params):\n",
        "  return Sequential([\n",
        "    Conv2D(filters=params['conv2D_cnn_block_one'], kernel_size=(3,3), activation='relu', input_shape = input_shape),\n",
        "    Conv2D(filters=params['conv2D_cnn_block_one'], kernel_size=(3,3), activation='relu', padding='same'),\n",
        "    Conv2D(filters=params['conv2D_cnn_block_one'], kernel_size=(3,3), activation='relu', padding='same'),\n",
        "    MaxPool2D(),\n",
        "    Dropout(params['dropout_cnn_block_one']),\n",
        "\n",
        "    Conv2D(filters=params['conv2D_cnn_block_two'], kernel_size=(3,3), activation='relu', padding='same'),\n",
        "    Conv2D(filters=params['conv2D_cnn_block_two'], kernel_size=(3,3), activation='relu', padding='same'),\n",
        "    Conv2D(filters=params['conv2D_cnn_block_two'], kernel_size=(3,3), activation='relu'),\n",
        "    MaxPool2D(),\n",
        "    Dropout(params['dropout_cnn_block_two']),\n",
        "\n",
        "    Conv2D(filters=params['conv2D_cnn_block_three'], kernel_size=(3,3), activation='relu', padding='same'),\n",
        "    Conv2D(filters=params['conv2D_cnn_block_three'], kernel_size=(3,3), activation='relu', padding='same'),\n",
        "    Conv2D(filters=params['conv2D_cnn_block_three'], kernel_size=(3,3), activation='relu'),\n",
        "    MaxPool2D(),\n",
        "    Dropout(params['dropout_cnn_block_three']),\n",
        "\n",
        "    Flatten(),\n",
        "\n",
        "    Dense(units = 1024, activation='relu'),  \n",
        "    Dropout(params['dropout_dense_block_one']),\n",
        "\n",
        "    Dense(units = 1024, activation='relu'),  \n",
        "    Dropout(params['dropout_dense_block_two']),\n",
        "\n",
        "    Dense(units = num_classes, activation='softmax'),                \n",
        "  ])"
      ],
      "execution_count": 0,
      "outputs": []
    },
    {
      "cell_type": "code",
      "metadata": {
        "id": "UWNWieKrD_e_",
        "colab_type": "code",
        "colab": {}
      },
      "source": [
        "def func_obj(params):\n",
        "  model = get_model(params)\n",
        "  model.compile(loss='categorical_crossentropy', optimizer='Adam', metrics=['accuracy'])\n",
        "\n",
        "  \n",
        "  model.fit(\n",
        "      X_train, \n",
        "      y_train,\n",
        "      batch_size = int(params.get('batch_size', 128)),\n",
        "      epochs = int(params.get('epochs', 5)),\n",
        "      verbose = 0\n",
        "      )\n",
        "  \n",
        "  score = model.evaluate(X_test, y_test, verbose=0)\n",
        "  accuracy = score[1]\n",
        "  print(params, f'accurycy={accuracy}')\n",
        "\n",
        "  return {'loss': -accuracy, 'status': STATUS_OK, 'model': model}"
      ],
      "execution_count": 0,
      "outputs": []
    },
    {
      "cell_type": "code",
      "metadata": {
        "id": "nBNNE25IGvgr",
        "colab_type": "code",
        "colab": {
          "base_uri": "https://localhost:8080/",
          "height": 1000
        },
        "outputId": "84b6f888-180a-46ae-8dd3-a8f631664b87"
      },
      "source": [
        "space = {\n",
        "    'batch_size': hp.quniform('batch_size', 50, 200, 10),\n",
        "    'epochs': hp.quniform('epochs', 5, 15, 3),\n",
        "\n",
        "    'dropout_cnn_block_one': hp.uniform('dropout_cnn_block_one', 0.1, 0.9),\n",
        "    'dropout_cnn_block_two': hp.uniform('dropout_cnn_block_two', 0.1, 0.9),\n",
        "    'dropout_cnn_block_three': hp.uniform('dropout_cnn_block_three', 0.1, 0.9),\n",
        "    \n",
        "    'dropout_dense_block_one': hp.uniform('dropout_dense_block_one', 0.1, 0.9),\n",
        "    'dropout_dense_block_two': hp.uniform('dropout_dense_block_two', 0.1, 0.9),\n",
        "\n",
        "    'conv2D_cnn_block_one': hp.choice('conv2D_cnn_block_one', [32,64,128]),\n",
        "    'conv2D_cnn_block_two': hp.choice('conv2D_cnn_block_two', [64,128,256]),\n",
        "    'conv2D_cnn_block_three': hp.choice('conv2D_cnn_block_three', [128,256,512]),\n",
        "    \n",
        "}\n",
        "\n",
        "best = fmin(\n",
        "    func_obj,\n",
        "    space,\n",
        "    tpe.suggest,\n",
        "    100,\n",
        "    Trials()\n",
        ")"
      ],
      "execution_count": 43,
      "outputs": [
        {
          "output_type": "stream",
          "text": [
            "{'batch_size': 160.0, 'conv2D_cnn_block_one': 128, 'conv2D_cnn_block_three': 128, 'conv2D_cnn_block_two': 64, 'dropout_cnn_block_one': 0.40060825103334874, 'dropout_cnn_block_three': 0.1559553116241774, 'dropout_cnn_block_two': 0.3668264111484091, 'dropout_dense_block_one': 0.3296995946710388, 'dropout_dense_block_two': 0.14639867590012054, 'epochs': 9.0}\n",
            "accurycy=0.9643990993499756\n",
            "{'batch_size': 120.0, 'conv2D_cnn_block_one': 64, 'conv2D_cnn_block_three': 256, 'conv2D_cnn_block_two': 256, 'dropout_cnn_block_one': 0.6830752064103829, 'dropout_cnn_block_three': 0.8771650015371276, 'dropout_cnn_block_two': 0.13805153466940479, 'dropout_dense_block_one': 0.21124726505501892, 'dropout_dense_block_two': 0.117757363345038, 'epochs': 12.0}\n",
            "accurycy=0.9335600733757019\n",
            "{'batch_size': 100.0, 'conv2D_cnn_block_one': 128, 'conv2D_cnn_block_three': 128, 'conv2D_cnn_block_two': 64, 'dropout_cnn_block_one': 0.6338065502178336, 'dropout_cnn_block_three': 0.4067142900401022, 'dropout_cnn_block_two': 0.2568060538943973, 'dropout_dense_block_one': 0.241273354756723, 'dropout_dense_block_two': 0.2146695323477423, 'epochs': 9.0}\n",
            "accurycy=0.9609977602958679\n",
            "{'batch_size': 120.0, 'conv2D_cnn_block_one': 64, 'conv2D_cnn_block_three': 512, 'conv2D_cnn_block_two': 64, 'dropout_cnn_block_one': 0.25443141984921314, 'dropout_cnn_block_three': 0.8500647623334195, 'dropout_cnn_block_two': 0.37959460233826514, 'dropout_dense_block_one': 0.42825237592069376, 'dropout_dense_block_two': 0.36675754376013414, 'epochs': 15.0}\n",
            "accurycy=0.9800453782081604\n",
            "{'batch_size': 50.0, 'conv2D_cnn_block_one': 64, 'conv2D_cnn_block_three': 256, 'conv2D_cnn_block_two': 128, 'dropout_cnn_block_one': 0.7682210901561535, 'dropout_cnn_block_three': 0.4332245517404346, 'dropout_cnn_block_two': 0.8607771152753546, 'dropout_dense_block_one': 0.16947032077286872, 'dropout_dense_block_two': 0.5080311219717333, 'epochs': 12.0}\n",
            "accurycy=0.8324263095855713\n",
            "{'batch_size': 120.0, 'conv2D_cnn_block_one': 64, 'conv2D_cnn_block_three': 256, 'conv2D_cnn_block_two': 64, 'dropout_cnn_block_one': 0.1144105906402519, 'dropout_cnn_block_three': 0.8896294976547462, 'dropout_cnn_block_two': 0.6674826988058851, 'dropout_dense_block_one': 0.14655723918521862, 'dropout_dense_block_two': 0.8999009222444438, 'epochs': 6.0}\n",
            "accurycy=0.08503401279449463\n",
            "{'batch_size': 80.0, 'conv2D_cnn_block_one': 32, 'conv2D_cnn_block_three': 512, 'conv2D_cnn_block_two': 256, 'dropout_cnn_block_one': 0.3215179999854086, 'dropout_cnn_block_three': 0.7355665253130871, 'dropout_cnn_block_two': 0.8161380285116657, 'dropout_dense_block_one': 0.5446730848747906, 'dropout_dense_block_two': 0.48059033074839774, 'epochs': 15.0}\n",
            "accurycy=0.9401360750198364\n",
            "{'batch_size': 160.0, 'conv2D_cnn_block_one': 32, 'conv2D_cnn_block_three': 256, 'conv2D_cnn_block_two': 128, 'dropout_cnn_block_one': 0.5425309597551519, 'dropout_cnn_block_three': 0.1826838431641055, 'dropout_cnn_block_two': 0.7282138630147169, 'dropout_dense_block_one': 0.13161810663387774, 'dropout_dense_block_two': 0.527410213640865, 'epochs': 12.0}\n",
            "accurycy=0.9344671368598938\n",
            "{'batch_size': 70.0, 'conv2D_cnn_block_one': 32, 'conv2D_cnn_block_three': 256, 'conv2D_cnn_block_two': 128, 'dropout_cnn_block_one': 0.35906665994929776, 'dropout_cnn_block_three': 0.7452184268910002, 'dropout_cnn_block_two': 0.428635703171406, 'dropout_dense_block_one': 0.8574229281567911, 'dropout_dense_block_two': 0.29780172602906224, 'epochs': 12.0}\n",
            "accurycy=0.9448979496955872\n",
            "{'batch_size': 100.0, 'conv2D_cnn_block_one': 128, 'conv2D_cnn_block_three': 512, 'conv2D_cnn_block_two': 64, 'dropout_cnn_block_one': 0.8939675536976153, 'dropout_cnn_block_three': 0.25538014359263594, 'dropout_cnn_block_two': 0.8809867829850496, 'dropout_dense_block_one': 0.3930589426167971, 'dropout_dense_block_two': 0.8104033814253832, 'epochs': 15.0}\n",
            "accurycy=0.6585034132003784\n",
            "{'batch_size': 150.0, 'conv2D_cnn_block_one': 64, 'conv2D_cnn_block_three': 256, 'conv2D_cnn_block_two': 64, 'dropout_cnn_block_one': 0.8851864988076267, 'dropout_cnn_block_three': 0.11397732301323248, 'dropout_cnn_block_two': 0.7461416718722849, 'dropout_dense_block_one': 0.105089742173746, 'dropout_dense_block_two': 0.6983977561044901, 'epochs': 12.0}\n",
            "accurycy=0.8240363001823425\n",
            "{'batch_size': 110.0, 'conv2D_cnn_block_one': 128, 'conv2D_cnn_block_three': 256, 'conv2D_cnn_block_two': 128, 'dropout_cnn_block_one': 0.1028051858220068, 'dropout_cnn_block_three': 0.8388597544199574, 'dropout_cnn_block_two': 0.5596943475546126, 'dropout_dense_block_one': 0.23108785114831304, 'dropout_dense_block_two': 0.1334785398119876, 'epochs': 12.0}\n",
            "accurycy=0.9721088409423828\n",
            "{'batch_size': 60.0, 'conv2D_cnn_block_one': 32, 'conv2D_cnn_block_three': 512, 'conv2D_cnn_block_two': 128, 'dropout_cnn_block_one': 0.10686804613212582, 'dropout_cnn_block_three': 0.6560499642785997, 'dropout_cnn_block_two': 0.4038796510695495, 'dropout_dense_block_one': 0.14765217785706694, 'dropout_dense_block_two': 0.1537050840577595, 'epochs': 6.0}\n",
            "accurycy=0.9752834439277649\n",
            "{'batch_size': 190.0, 'conv2D_cnn_block_one': 32, 'conv2D_cnn_block_three': 256, 'conv2D_cnn_block_two': 128, 'dropout_cnn_block_one': 0.3363395489143919, 'dropout_cnn_block_three': 0.49217445672230287, 'dropout_cnn_block_two': 0.5827638366808411, 'dropout_dense_block_one': 0.33677954123118725, 'dropout_dense_block_two': 0.457078815849545, 'epochs': 6.0}\n",
            "accurycy=0.9662131667137146\n",
            "{'batch_size': 60.0, 'conv2D_cnn_block_one': 32, 'conv2D_cnn_block_three': 256, 'conv2D_cnn_block_two': 256, 'dropout_cnn_block_one': 0.8069997560904661, 'dropout_cnn_block_three': 0.46300516425912963, 'dropout_cnn_block_two': 0.1290122465264849, 'dropout_dense_block_one': 0.48317427352285536, 'dropout_dense_block_two': 0.5037709209734013, 'epochs': 12.0}\n",
            "accurycy=0.8721088171005249\n",
            "{'batch_size': 100.0, 'conv2D_cnn_block_one': 32, 'conv2D_cnn_block_three': 512, 'conv2D_cnn_block_two': 256, 'dropout_cnn_block_one': 0.3956117504089648, 'dropout_cnn_block_three': 0.13014282419099327, 'dropout_cnn_block_two': 0.3797454204209587, 'dropout_dense_block_one': 0.5814773889892783, 'dropout_dense_block_two': 0.5170571855323008, 'epochs': 9.0}\n",
            "accurycy=0.9732426404953003\n",
            "{'batch_size': 190.0, 'conv2D_cnn_block_one': 32, 'conv2D_cnn_block_three': 512, 'conv2D_cnn_block_two': 64, 'dropout_cnn_block_one': 0.5191725124329015, 'dropout_cnn_block_three': 0.7259104899468696, 'dropout_cnn_block_two': 0.3606291069771699, 'dropout_dense_block_one': 0.7453341073734506, 'dropout_dense_block_two': 0.23534720659003583, 'epochs': 6.0}\n",
            "accurycy=0.9362812042236328\n",
            "{'batch_size': 150.0, 'conv2D_cnn_block_one': 128, 'conv2D_cnn_block_three': 128, 'conv2D_cnn_block_two': 128, 'dropout_cnn_block_one': 0.672751837445389, 'dropout_cnn_block_three': 0.6270849452494562, 'dropout_cnn_block_two': 0.7819164744727852, 'dropout_dense_block_one': 0.6310613572370503, 'dropout_dense_block_two': 0.7285174176170196, 'epochs': 12.0}\n",
            "accurycy=0.8945578336715698\n",
            "{'batch_size': 190.0, 'conv2D_cnn_block_one': 64, 'conv2D_cnn_block_three': 128, 'conv2D_cnn_block_two': 128, 'dropout_cnn_block_one': 0.4001007993717093, 'dropout_cnn_block_three': 0.6824167196574606, 'dropout_cnn_block_two': 0.7646857764208016, 'dropout_dense_block_one': 0.8517133437604781, 'dropout_dense_block_two': 0.179605025800476, 'epochs': 6.0}\n",
            "accurycy=0.7482993006706238\n",
            "{'batch_size': 150.0, 'conv2D_cnn_block_one': 64, 'conv2D_cnn_block_three': 128, 'conv2D_cnn_block_two': 64, 'dropout_cnn_block_one': 0.5988184776514995, 'dropout_cnn_block_three': 0.16791091001559233, 'dropout_cnn_block_two': 0.8336662259872873, 'dropout_dense_block_one': 0.6986666712170204, 'dropout_dense_block_two': 0.18725512012617396, 'epochs': 12.0}\n",
            "accurycy=0.884353756904602\n",
            "{'batch_size': 80.0, 'conv2D_cnn_block_one': 64, 'conv2D_cnn_block_three': 512, 'conv2D_cnn_block_two': 64, 'dropout_cnn_block_one': 0.22525502179001475, 'dropout_cnn_block_three': 0.6010132947290633, 'dropout_cnn_block_two': 0.25053767792835624, 'dropout_dense_block_one': 0.4264845846440417, 'dropout_dense_block_two': 0.34834441064016775, 'epochs': 15.0}\n",
            "accurycy=0.9732426404953003\n",
            "{'batch_size': 50.0, 'conv2D_cnn_block_one': 32, 'conv2D_cnn_block_three': 512, 'conv2D_cnn_block_two': 128, 'dropout_cnn_block_one': 0.19939616982540367, 'dropout_cnn_block_three': 0.5589535471669156, 'dropout_cnn_block_two': 0.47011669251365956, 'dropout_dense_block_one': 0.310472116606287, 'dropout_dense_block_two': 0.38024902586781195, 'epochs': 9.0}\n",
            "accurycy=0.9628117680549622\n",
            "{'batch_size': 130.0, 'conv2D_cnn_block_one': 64, 'conv2D_cnn_block_three': 512, 'conv2D_cnn_block_two': 128, 'dropout_cnn_block_one': 0.20053355218520316, 'dropout_cnn_block_three': 0.8111507171803036, 'dropout_cnn_block_two': 0.2828032367552695, 'dropout_dense_block_one': 0.45785165765999225, 'dropout_dense_block_two': 0.5997941418208513, 'epochs': 15.0}\n",
            "accurycy=0.9680272340774536\n",
            "{'batch_size': 80.0, 'conv2D_cnn_block_one': 32, 'conv2D_cnn_block_three': 512, 'conv2D_cnn_block_two': 64, 'dropout_cnn_block_one': 0.24851018137222794, 'dropout_cnn_block_three': 0.3723615624364911, 'dropout_cnn_block_two': 0.5677121542563889, 'dropout_dense_block_one': 0.37536285939892117, 'dropout_dense_block_two': 0.28900849557163555, 'epochs': 9.0}\n",
            "accurycy=0.9707483053207397\n",
            "{'batch_size': 130.0, 'conv2D_cnn_block_one': 64, 'conv2D_cnn_block_three': 512, 'conv2D_cnn_block_two': 128, 'dropout_cnn_block_one': 0.1532880318993407, 'dropout_cnn_block_three': 0.8079043053235716, 'dropout_cnn_block_two': 0.18733550959148507, 'dropout_dense_block_one': 0.5395369711860868, 'dropout_dense_block_two': 0.3978996105331877, 'epochs': 6.0}\n",
            "accurycy=0.9775510430335999\n",
            "{'batch_size': 140.0, 'conv2D_cnn_block_one': 64, 'conv2D_cnn_block_three': 512, 'conv2D_cnn_block_two': 64, 'dropout_cnn_block_one': 0.2862021950690446, 'dropout_cnn_block_three': 0.7978203618549459, 'dropout_cnn_block_two': 0.17553829949331123, 'dropout_dense_block_one': 0.6501952306109595, 'dropout_dense_block_two': 0.38483159681604295, 'epochs': 15.0}\n",
            "accurycy=0.9734693765640259\n",
            "{'batch_size': 130.0, 'conv2D_cnn_block_one': 64, 'conv2D_cnn_block_three': 512, 'conv2D_cnn_block_two': 256, 'dropout_cnn_block_one': 0.1645820839748895, 'dropout_cnn_block_three': 0.8962247344001859, 'dropout_cnn_block_two': 0.19297960588905647, 'dropout_dense_block_one': 0.5286569616211338, 'dropout_dense_block_two': 0.4270380715765483, 'epochs': 9.0}\n",
            "accurycy=0.9716553092002869\n",
            "{'batch_size': 110.0, 'conv2D_cnn_block_one': 64, 'conv2D_cnn_block_three': 512, 'conv2D_cnn_block_two': 128, 'dropout_cnn_block_one': 0.4655496646403689, 'dropout_cnn_block_three': 0.5517490020119231, 'dropout_cnn_block_two': 0.3213794796593443, 'dropout_dense_block_one': 0.7457340421691558, 'dropout_dense_block_two': 0.600822920663117, 'epochs': 6.0}\n",
            "accurycy=0.9074829816818237\n",
            "{'batch_size': 170.0, 'conv2D_cnn_block_one': 64, 'conv2D_cnn_block_three': 512, 'conv2D_cnn_block_two': 64, 'dropout_cnn_block_one': 0.4546592959749457, 'dropout_cnn_block_three': 0.7885531014675349, 'dropout_cnn_block_two': 0.48194700985570815, 'dropout_dense_block_one': 0.29549171397110285, 'dropout_dense_block_two': 0.2861411900348573, 'epochs': 9.0}\n",
            "accurycy=0.8952381014823914\n",
            "{'batch_size': 170.0, 'conv2D_cnn_block_one': 64, 'conv2D_cnn_block_three': 512, 'conv2D_cnn_block_two': 64, 'dropout_cnn_block_one': 0.14774841852049517, 'dropout_cnn_block_three': 0.8499200394089557, 'dropout_cnn_block_two': 0.2103672086947105, 'dropout_dense_block_one': 0.6281323242430399, 'dropout_dense_block_two': 0.6015847190879963, 'epochs': 15.0}\n",
            "accurycy=0.9650793671607971\n",
            "{'batch_size': 140.0, 'conv2D_cnn_block_one': 64, 'conv2D_cnn_block_three': 512, 'conv2D_cnn_block_two': 256, 'dropout_cnn_block_one': 0.2779925522372826, 'dropout_cnn_block_three': 0.29803283884866416, 'dropout_cnn_block_two': 0.1072677977437936, 'dropout_dense_block_one': 0.5515279333348926, 'dropout_dense_block_two': 0.32996641476086336, 'epochs': 6.0}\n",
            "accurycy=0.9666666388511658\n",
            "{'batch_size': 110.0, 'conv2D_cnn_block_one': 128, 'conv2D_cnn_block_three': 128, 'conv2D_cnn_block_two': 64, 'dropout_cnn_block_one': 0.16655330652849215, 'dropout_cnn_block_three': 0.696961957938391, 'dropout_cnn_block_two': 0.32182245103285706, 'dropout_dense_block_one': 0.45115191874117333, 'dropout_dense_block_two': 0.2479699182275778, 'epochs': 9.0}\n",
            "accurycy=0.9673469662666321\n",
            "{'batch_size': 90.0, 'conv2D_cnn_block_one': 64, 'conv2D_cnn_block_three': 512, 'conv2D_cnn_block_two': 128, 'dropout_cnn_block_one': 0.28447099335499715, 'dropout_cnn_block_three': 0.8839982711868559, 'dropout_cnn_block_two': 0.10010159841112937, 'dropout_dense_block_one': 0.8034434921619665, 'dropout_dense_block_two': 0.43759920941668423, 'epochs': 15.0}\n",
            "accurycy=0.9716553092002869\n",
            "{'batch_size': 120.0, 'conv2D_cnn_block_one': 64, 'conv2D_cnn_block_three': 128, 'conv2D_cnn_block_two': 64, 'dropout_cnn_block_one': 0.44800861215249455, 'dropout_cnn_block_three': 0.5713754428021871, 'dropout_cnn_block_two': 0.5275779822437638, 'dropout_dense_block_one': 0.5038431728087888, 'dropout_dense_block_two': 0.3920803230086391, 'epochs': 9.0}\n",
            "accurycy=0.9759637117385864\n",
            "{'batch_size': 140.0, 'conv2D_cnn_block_one': 64, 'conv2D_cnn_block_three': 512, 'conv2D_cnn_block_two': 256, 'dropout_cnn_block_one': 0.3664708570808738, 'dropout_cnn_block_three': 0.750492212419701, 'dropout_cnn_block_two': 0.671408410733912, 'dropout_dense_block_one': 0.27127343925916714, 'dropout_dense_block_two': 0.5561169411953986, 'epochs': 9.0}\n",
            "accurycy=0.9814059138298035\n",
            "{'batch_size': 170.0, 'conv2D_cnn_block_one': 128, 'conv2D_cnn_block_three': 512, 'conv2D_cnn_block_two': 256, 'dropout_cnn_block_one': 0.5600822111972081, 'dropout_cnn_block_three': 0.7717248570965596, 'dropout_cnn_block_two': 0.6798462442880817, 'dropout_dense_block_one': 0.1990184797329716, 'dropout_dense_block_two': 0.6772780878610312, 'epochs': 9.0}\n",
            "accurycy=0.9362812042236328\n",
            "{'batch_size': 180.0, 'conv2D_cnn_block_one': 64, 'conv2D_cnn_block_three': 512, 'conv2D_cnn_block_two': 256, 'dropout_cnn_block_one': 0.3643782547637558, 'dropout_cnn_block_three': 0.35907381926828363, 'dropout_cnn_block_two': 0.6388621513898131, 'dropout_dense_block_one': 0.252116800912184, 'dropout_dense_block_two': 0.5651914327696668, 'epochs': 12.0}\n",
            "accurycy=0.9668934345245361\n",
            "{'batch_size': 140.0, 'conv2D_cnn_block_one': 64, 'conv2D_cnn_block_three': 128, 'conv2D_cnn_block_two': 256, 'dropout_cnn_block_one': 0.49238734420329355, 'dropout_cnn_block_three': 0.8591642182158149, 'dropout_cnn_block_two': 0.6359718842677302, 'dropout_dense_block_one': 0.26608666940402903, 'dropout_dense_block_two': 0.7987431758518774, 'epochs': 9.0}\n",
            "accurycy=0.4811791479587555\n",
            "{'batch_size': 120.0, 'conv2D_cnn_block_one': 64, 'conv2D_cnn_block_three': 512, 'conv2D_cnn_block_two': 256, 'dropout_cnn_block_one': 0.7332609218256424, 'dropout_cnn_block_three': 0.6384625578369547, 'dropout_cnn_block_two': 0.7014838877099003, 'dropout_dense_block_one': 0.3755883803924516, 'dropout_dense_block_two': 0.6458213892439183, 'epochs': 9.0}\n",
            "accurycy=0.9195011258125305\n",
            "{'batch_size': 160.0, 'conv2D_cnn_block_one': 128, 'conv2D_cnn_block_three': 256, 'conv2D_cnn_block_two': 256, 'dropout_cnn_block_one': 0.4255649655018813, 'dropout_cnn_block_three': 0.7463190891912306, 'dropout_cnn_block_two': 0.4351861523758009, 'dropout_dense_block_one': 0.1918275014886533, 'dropout_dense_block_two': 0.8555435320232719, 'epochs': 12.0}\n",
            "accurycy=0.9750567078590393\n",
            "{'batch_size': 90.0, 'conv2D_cnn_block_one': 64, 'conv2D_cnn_block_three': 512, 'conv2D_cnn_block_two': 256, 'dropout_cnn_block_one': 0.3184499173727266, 'dropout_cnn_block_three': 0.7036735453043481, 'dropout_cnn_block_two': 0.6023044413626899, 'dropout_dense_block_one': 0.35140084248110137, 'dropout_dense_block_two': 0.7474402854225525, 'epochs': 12.0}\n",
            "accurycy=0.9746031761169434\n",
            "{'batch_size': 90.0, 'conv2D_cnn_block_one': 64, 'conv2D_cnn_block_three': 512, 'conv2D_cnn_block_two': 256, 'dropout_cnn_block_one': 0.5836265501633122, 'dropout_cnn_block_three': 0.5175245099484933, 'dropout_cnn_block_two': 0.5270111471413195, 'dropout_dense_block_one': 0.4146150841094123, 'dropout_dense_block_two': 0.5424128037563066, 'epochs': 12.0}\n",
            "accurycy=0.9496598839759827\n",
            "{'batch_size': 110.0, 'conv2D_cnn_block_one': 128, 'conv2D_cnn_block_three': 256, 'conv2D_cnn_block_two': 64, 'dropout_cnn_block_one': 0.35036835238058545, 'dropout_cnn_block_three': 0.8966871758879273, 'dropout_cnn_block_two': 0.4459983998060341, 'dropout_dense_block_one': 0.11229850967791022, 'dropout_dense_block_two': 0.4711313409282638, 'epochs': 9.0}\n",
            "accurycy=0.8927437663078308\n",
            "{'batch_size': 200.0, 'conv2D_cnn_block_one': 64, 'conv2D_cnn_block_three': 128, 'conv2D_cnn_block_two': 256, 'dropout_cnn_block_one': 0.24239882930972345, 'dropout_cnn_block_three': 0.6647793057458766, 'dropout_cnn_block_two': 0.5099738287560939, 'dropout_dense_block_one': 0.2845076061048091, 'dropout_dense_block_two': 0.6496537176493471, 'epochs': 15.0}\n",
            "accurycy=0.9764172434806824\n",
            "{'batch_size': 160.0, 'conv2D_cnn_block_one': 64, 'conv2D_cnn_block_three': 512, 'conv2D_cnn_block_two': 64, 'dropout_cnn_block_one': 0.638762664069446, 'dropout_cnn_block_three': 0.4290939051074079, 'dropout_cnn_block_two': 0.8148820082520751, 'dropout_dense_block_one': 0.16794743851463717, 'dropout_dense_block_two': 0.33072931227653485, 'epochs': 9.0}\n",
            "accurycy=0.9079365134239197\n",
            "{'batch_size': 120.0, 'conv2D_cnn_block_one': 128, 'conv2D_cnn_block_three': 256, 'conv2D_cnn_block_two': 256, 'dropout_cnn_block_one': 0.5092526666639641, 'dropout_cnn_block_three': 0.6055625921507859, 'dropout_cnn_block_two': 0.8984005893672105, 'dropout_dense_block_one': 0.22292421459559758, 'dropout_dense_block_two': 0.5689497744485554, 'epochs': 12.0}\n",
            "accurycy=0.9666666388511658\n",
            "{'batch_size': 140.0, 'conv2D_cnn_block_one': 64, 'conv2D_cnn_block_three': 512, 'conv2D_cnn_block_two': 64, 'dropout_cnn_block_one': 0.307105068411526, 'dropout_cnn_block_three': 0.8313331356067124, 'dropout_cnn_block_two': 0.3947635495047804, 'dropout_dense_block_one': 0.3260091009815624, 'dropout_dense_block_two': 0.4868865455193082, 'epochs': 15.0}\n",
            "accurycy=0.9732426404953003\n",
            "{'batch_size': 70.0, 'conv2D_cnn_block_one': 32, 'conv2D_cnn_block_three': 256, 'conv2D_cnn_block_two': 256, 'dropout_cnn_block_one': 0.12520929227375555, 'dropout_cnn_block_three': 0.22642888195890376, 'dropout_cnn_block_two': 0.7134157510122738, 'dropout_dense_block_one': 0.5896045019239149, 'dropout_dense_block_two': 0.8903721195119573, 'epochs': 12.0}\n",
            "accurycy=0.9723355770111084\n",
            "{'batch_size': 100.0, 'conv2D_cnn_block_one': 64, 'conv2D_cnn_block_three': 512, 'conv2D_cnn_block_two': 64, 'dropout_cnn_block_one': 0.37771574637395744, 'dropout_cnn_block_three': 0.7541990986445624, 'dropout_cnn_block_two': 0.6157995717215512, 'dropout_dense_block_one': 0.4848438506601292, 'dropout_dense_block_two': 0.11829053145758733, 'epochs': 6.0}\n",
            "accurycy=0.9448979496955872\n",
            "{'batch_size': 150.0, 'conv2D_cnn_block_one': 128, 'conv2D_cnn_block_three': 128, 'conv2D_cnn_block_two': 256, 'dropout_cnn_block_one': 0.8330740010336615, 'dropout_cnn_block_three': 0.4982110802094474, 'dropout_cnn_block_two': 0.3149904988643298, 'dropout_dense_block_one': 0.41102334157939496, 'dropout_dense_block_two': 0.778351024561018, 'epochs': 9.0}\n",
            "accurycy=0.8063492178916931\n",
            "{'batch_size': 180.0, 'conv2D_cnn_block_one': 64, 'conv2D_cnn_block_three': 512, 'conv2D_cnn_block_two': 64, 'dropout_cnn_block_one': 0.40969561356093787, 'dropout_cnn_block_three': 0.7159214534647877, 'dropout_cnn_block_two': 0.5476718901361356, 'dropout_dense_block_one': 0.14185084844135334, 'dropout_dense_block_two': 0.264073111451273, 'epochs': 12.0}\n",
            "accurycy=0.9700680375099182\n",
            "{'batch_size': 160.0, 'conv2D_cnn_block_one': 32, 'conv2D_cnn_block_three': 256, 'conv2D_cnn_block_two': 64, 'dropout_cnn_block_one': 0.7028478207152068, 'dropout_cnn_block_three': 0.4658483431113193, 'dropout_cnn_block_two': 0.364838942143256, 'dropout_dense_block_one': 0.8924223269569761, 'dropout_dense_block_two': 0.21686166501136742, 'epochs': 9.0}\n",
            "accurycy=0.8244897723197937\n",
            "{'batch_size': 130.0, 'conv2D_cnn_block_one': 64, 'conv2D_cnn_block_three': 512, 'conv2D_cnn_block_two': 256, 'dropout_cnn_block_one': 0.5353060378029362, 'dropout_cnn_block_three': 0.6728209659038414, 'dropout_cnn_block_two': 0.2420495873237379, 'dropout_dense_block_one': 0.3464269742303652, 'dropout_dense_block_two': 0.4379291783112197, 'epochs': 15.0}\n",
            "accurycy=0.982086181640625\n",
            "{'batch_size': 130.0, 'conv2D_cnn_block_one': 64, 'conv2D_cnn_block_three': 512, 'conv2D_cnn_block_two': 256, 'dropout_cnn_block_one': 0.5532483773160201, 'dropout_cnn_block_three': 0.5374792809731708, 'dropout_cnn_block_two': 0.23890036926222807, 'dropout_dense_block_one': 0.37046017808330367, 'dropout_dense_block_two': 0.4369290153379891, 'epochs': 6.0}\n",
            "accurycy=0.9467120170593262\n",
            "{'batch_size': 150.0, 'conv2D_cnn_block_one': 32, 'conv2D_cnn_block_three': 512, 'conv2D_cnn_block_two': 256, 'dropout_cnn_block_one': 0.6410358439798007, 'dropout_cnn_block_three': 0.6088773854156234, 'dropout_cnn_block_two': 0.8549805783021247, 'dropout_dense_block_one': 0.10423059685961394, 'dropout_dense_block_two': 0.7085528217261018, 'epochs': 15.0}\n",
            "accurycy=0.9195011258125305\n",
            "{'batch_size': 180.0, 'conv2D_cnn_block_one': 64, 'conv2D_cnn_block_three': 128, 'conv2D_cnn_block_two': 256, 'dropout_cnn_block_one': 0.5998933549156343, 'dropout_cnn_block_three': 0.6755423458821865, 'dropout_cnn_block_two': 0.804915902319989, 'dropout_dense_block_one': 0.23741565973901219, 'dropout_dense_block_two': 0.5401613242041106, 'epochs': 12.0}\n",
            "accurycy=0.9306122660636902\n",
            "{'batch_size': 200.0, 'conv2D_cnn_block_one': 128, 'conv2D_cnn_block_three': 512, 'conv2D_cnn_block_two': 256, 'dropout_cnn_block_one': 0.8682079216404406, 'dropout_cnn_block_three': 0.5783966955902365, 'dropout_cnn_block_two': 0.7424829561273703, 'dropout_dense_block_one': 0.45933325568118494, 'dropout_dense_block_two': 0.6493892666247991, 'epochs': 9.0}\n",
            "accurycy=0.8832199573516846\n",
            "{'batch_size': 100.0, 'conv2D_cnn_block_one': 64, 'conv2D_cnn_block_three': 512, 'conv2D_cnn_block_two': 256, 'dropout_cnn_block_one': 0.767674447637767, 'dropout_cnn_block_three': 0.6391436766212603, 'dropout_cnn_block_two': 0.6667366480082133, 'dropout_dense_block_one': 0.17547303544171813, 'dropout_dense_block_two': 0.5047106286706228, 'epochs': 15.0}\n",
            "accurycy=0.9185941219329834\n",
            "{'batch_size': 130.0, 'conv2D_cnn_block_one': 32, 'conv2D_cnn_block_three': 256, 'conv2D_cnn_block_two': 256, 'dropout_cnn_block_one': 0.4845912506868091, 'dropout_cnn_block_three': 0.37146698807394557, 'dropout_cnn_block_two': 0.13182276124469822, 'dropout_dense_block_one': 0.26993948547957, 'dropout_dense_block_two': 0.414449456090841, 'epochs': 6.0}\n",
            "accurycy=0.9553288221359253\n",
            "{'batch_size': 60.0, 'conv2D_cnn_block_one': 64, 'conv2D_cnn_block_three': 512, 'conv2D_cnn_block_two': 256, 'dropout_cnn_block_one': 0.6835249687300425, 'dropout_cnn_block_three': 0.7713874695439856, 'dropout_cnn_block_two': 0.2824366900568694, 'dropout_dense_block_one': 0.30695817592243296, 'dropout_dense_block_two': 0.347888774392441, 'epochs': 12.0}\n",
            "accurycy=0.9548752903938293\n",
            "{'batch_size': 140.0, 'conv2D_cnn_block_one': 64, 'conv2D_cnn_block_three': 128, 'conv2D_cnn_block_two': 256, 'dropout_cnn_block_one': 0.537947058184406, 'dropout_cnn_block_three': 0.3284213053431959, 'dropout_cnn_block_two': 0.47053823785182963, 'dropout_dense_block_one': 0.3338067924342169, 'dropout_dense_block_two': 0.8548373684390407, 'epochs': 9.0}\n",
            "accurycy=0.9596371650695801\n",
            "{'batch_size': 110.0, 'conv2D_cnn_block_one': 64, 'conv2D_cnn_block_three': 512, 'conv2D_cnn_block_two': 256, 'dropout_cnn_block_one': 0.6146389389637189, 'dropout_cnn_block_three': 0.47018364186071776, 'dropout_cnn_block_two': 0.7669387329216428, 'dropout_dense_block_one': 0.5101465814068511, 'dropout_dense_block_two': 0.4596142083299623, 'epochs': 9.0}\n",
            "accurycy=0.9217687249183655\n",
            "{'batch_size': 160.0, 'conv2D_cnn_block_one': 32, 'conv2D_cnn_block_three': 512, 'conv2D_cnn_block_two': 128, 'dropout_cnn_block_one': 0.4264181619817815, 'dropout_cnn_block_three': 0.4153619750769773, 'dropout_cnn_block_two': 0.4099444630976846, 'dropout_dense_block_one': 0.5712343737275725, 'dropout_dense_block_two': 0.618607088806126, 'epochs': 6.0}\n",
            "accurycy=0.9519274234771729\n",
            "{'batch_size': 170.0, 'conv2D_cnn_block_one': 128, 'conv2D_cnn_block_three': 256, 'conv2D_cnn_block_two': 256, 'dropout_cnn_block_one': 0.19482473345174095, 'dropout_cnn_block_three': 0.8269613115059147, 'dropout_cnn_block_two': 0.572794229494225, 'dropout_dense_block_one': 0.21202946382331508, 'dropout_dense_block_two': 0.16944198239198638, 'epochs': 12.0}\n",
            "accurycy=0.9768707752227783\n",
            "{'batch_size': 70.0, 'conv2D_cnn_block_one': 64, 'conv2D_cnn_block_three': 512, 'conv2D_cnn_block_two': 128, 'dropout_cnn_block_one': 0.5270164960651512, 'dropout_cnn_block_three': 0.5203062772642678, 'dropout_cnn_block_two': 0.34845950404076087, 'dropout_dense_block_one': 0.12227907682507891, 'dropout_dense_block_two': 0.5630466783215198, 'epochs': 15.0}\n",
            "accurycy=0.960090696811676\n",
            "{'batch_size': 120.0, 'conv2D_cnn_block_one': 64, 'conv2D_cnn_block_three': 512, 'conv2D_cnn_block_two': 64, 'dropout_cnn_block_one': 0.3334488439515213, 'dropout_cnn_block_three': 0.8616534744910875, 'dropout_cnn_block_two': 0.22637017484650318, 'dropout_dense_block_one': 0.3512245121040981, 'dropout_dense_block_two': 0.36022115466438176, 'epochs': 15.0}\n",
            "accurycy=0.9730158448219299\n",
            "{'batch_size': 150.0, 'conv2D_cnn_block_one': 64, 'conv2D_cnn_block_three': 512, 'conv2D_cnn_block_two': 64, 'dropout_cnn_block_one': 0.2528707265895018, 'dropout_cnn_block_three': 0.7236973743948082, 'dropout_cnn_block_two': 0.1491255414805434, 'dropout_dense_block_one': 0.4381128726104323, 'dropout_dense_block_two': 0.3710032009784183, 'epochs': 15.0}\n",
            "accurycy=0.9866213202476501\n",
            "{'batch_size': 150.0, 'conv2D_cnn_block_one': 64, 'conv2D_cnn_block_three': 512, 'conv2D_cnn_block_two': 64, 'dropout_cnn_block_one': 0.2634447708498261, 'dropout_cnn_block_three': 0.7307498263102339, 'dropout_cnn_block_two': 0.16163939168051092, 'dropout_dense_block_one': 0.40029538987313845, 'dropout_dense_block_two': 0.30355309477847503, 'epochs': 15.0}\n",
            "accurycy=0.9795918464660645\n",
            "{'batch_size': 130.0, 'conv2D_cnn_block_one': 64, 'conv2D_cnn_block_three': 512, 'conv2D_cnn_block_two': 64, 'dropout_cnn_block_one': 0.2219683141884167, 'dropout_cnn_block_three': 0.7751238128954853, 'dropout_cnn_block_two': 0.26921156652127903, 'dropout_dense_block_one': 0.6056449382366025, 'dropout_dense_block_two': 0.4163489785240331, 'epochs': 15.0}\n",
            "accurycy=0.9691609740257263\n",
            "{'batch_size': 140.0, 'conv2D_cnn_block_one': 64, 'conv2D_cnn_block_three': 512, 'conv2D_cnn_block_two': 256, 'dropout_cnn_block_one': 0.3787605701208796, 'dropout_cnn_block_three': 0.6532064871031827, 'dropout_cnn_block_two': 0.16365114245529847, 'dropout_dense_block_one': 0.44927915986776135, 'dropout_dense_block_two': 0.515279983666777, 'epochs': 15.0}\n",
            "accurycy=0.9882085919380188\n",
            "{'batch_size': 150.0, 'conv2D_cnn_block_one': 64, 'conv2D_cnn_block_three': 512, 'conv2D_cnn_block_two': 64, 'dropout_cnn_block_one': 0.3848013800228874, 'dropout_cnn_block_three': 0.5771243975649, 'dropout_cnn_block_two': 0.15660132759405399, 'dropout_dense_block_one': 0.4458745755159555, 'dropout_dense_block_two': 0.317061831659957, 'epochs': 15.0}\n",
            "accurycy=0.9632652997970581\n",
            "{'batch_size': 140.0, 'conv2D_cnn_block_one': 64, 'conv2D_cnn_block_three': 512, 'conv2D_cnn_block_two': 256, 'dropout_cnn_block_one': 0.30215517880035947, 'dropout_cnn_block_three': 0.6256484373045369, 'dropout_cnn_block_two': 0.11278759091599766, 'dropout_dense_block_one': 0.6995171283520203, 'dropout_dense_block_two': 0.5250345664077218, 'epochs': 15.0}\n",
            "accurycy=0.9834467172622681\n",
            "{'batch_size': 190.0, 'conv2D_cnn_block_one': 64, 'conv2D_cnn_block_three': 512, 'conv2D_cnn_block_two': 256, 'dropout_cnn_block_one': 0.18443791909644647, 'dropout_cnn_block_three': 0.6254011127833892, 'dropout_cnn_block_two': 0.10655394087844328, 'dropout_dense_block_one': 0.6566695655080266, 'dropout_dense_block_two': 0.5199888663097703, 'epochs': 15.0}\n",
            "accurycy=0.9789115786552429\n",
            "{'batch_size': 160.0, 'conv2D_cnn_block_one': 64, 'conv2D_cnn_block_three': 512, 'conv2D_cnn_block_two': 128, 'dropout_cnn_block_one': 0.29602088183738035, 'dropout_cnn_block_three': 0.6544806209444529, 'dropout_cnn_block_two': 0.1901109008173978, 'dropout_dense_block_one': 0.6917489468792474, 'dropout_dense_block_two': 0.48432378139028126, 'epochs': 15.0}\n",
            "accurycy=0.9818593859672546\n",
            "{'batch_size': 140.0, 'conv2D_cnn_block_one': 64, 'conv2D_cnn_block_three': 512, 'conv2D_cnn_block_two': 64, 'dropout_cnn_block_one': 0.2275678946778723, 'dropout_cnn_block_three': 0.70309596696796, 'dropout_cnn_block_two': 0.12323844154687139, 'dropout_dense_block_one': 0.7355584948696223, 'dropout_dense_block_two': 0.5879523707240235, 'epochs': 15.0}\n",
            "accurycy=0.961904764175415\n",
            "{'batch_size': 170.0, 'conv2D_cnn_block_one': 64, 'conv2D_cnn_block_three': 128, 'conv2D_cnn_block_two': 256, 'dropout_cnn_block_one': 0.1366618320037433, 'dropout_cnn_block_three': 0.5917804984358555, 'dropout_cnn_block_two': 0.20617033426984052, 'dropout_dense_block_one': 0.8134431323681706, 'dropout_dense_block_two': 0.626554397250782, 'epochs': 15.0}\n",
            "accurycy=0.9782313108444214\n",
            "{'batch_size': 180.0, 'conv2D_cnn_block_one': 64, 'conv2D_cnn_block_three': 512, 'conv2D_cnn_block_two': 64, 'dropout_cnn_block_one': 0.10241644439526826, 'dropout_cnn_block_three': 0.6865530149788179, 'dropout_cnn_block_two': 0.1505600791810465, 'dropout_dense_block_one': 0.5259240185794037, 'dropout_dense_block_two': 0.680630088683805, 'epochs': 15.0}\n",
            "accurycy=0.9845805168151855\n",
            "{'batch_size': 200.0, 'conv2D_cnn_block_one': 64, 'conv2D_cnn_block_three': 512, 'conv2D_cnn_block_two': 64, 'dropout_cnn_block_one': 0.16401300895272874, 'dropout_cnn_block_three': 0.8150819007536687, 'dropout_cnn_block_two': 0.1520181823468253, 'dropout_dense_block_one': 0.5590455356340556, 'dropout_dense_block_two': 0.6871906530423411, 'epochs': 15.0}\n",
            "accurycy=0.980272114276886\n",
            "{'batch_size': 180.0, 'conv2D_cnn_block_one': 128, 'conv2D_cnn_block_three': 512, 'conv2D_cnn_block_two': 64, 'dropout_cnn_block_one': 0.27145292053454095, 'dropout_cnn_block_three': 0.5448832341818737, 'dropout_cnn_block_two': 0.2978367432484182, 'dropout_dense_block_one': 0.5169140225404567, 'dropout_dense_block_two': 0.7583502870890737, 'epochs': 15.0}\n",
            "accurycy=0.9825396537780762\n",
            "{'batch_size': 190.0, 'conv2D_cnn_block_one': 32, 'conv2D_cnn_block_three': 512, 'conv2D_cnn_block_two': 64, 'dropout_cnn_block_one': 0.1045584093726139, 'dropout_cnn_block_three': 0.6853758490267752, 'dropout_cnn_block_two': 0.21876870264557563, 'dropout_dense_block_one': 0.4392285376210847, 'dropout_dense_block_two': 0.718247450538335, 'epochs': 15.0}\n",
            "accurycy=0.9882085919380188\n",
            "{'batch_size': 170.0, 'conv2D_cnn_block_one': 32, 'conv2D_cnn_block_three': 256, 'conv2D_cnn_block_two': 64, 'dropout_cnn_block_one': 0.32905317168663, 'dropout_cnn_block_three': 0.791234383289596, 'dropout_cnn_block_two': 0.21565158214135677, 'dropout_dense_block_one': 0.4730582548150985, 'dropout_dense_block_two': 0.8447427850897098, 'epochs': 15.0}\n",
            "accurycy=0.9755101799964905\n",
            "{'batch_size': 190.0, 'conv2D_cnn_block_one': 32, 'conv2D_cnn_block_three': 128, 'conv2D_cnn_block_two': 64, 'dropout_cnn_block_one': 0.2429381935406295, 'dropout_cnn_block_three': 0.7187542414844758, 'dropout_cnn_block_two': 0.25306047865361714, 'dropout_dense_block_one': 0.3774364556794267, 'dropout_dense_block_two': 0.7141113094457914, 'epochs': 12.0}\n",
            "accurycy=0.9734693765640259\n",
            "{'batch_size': 190.0, 'conv2D_cnn_block_one': 32, 'conv2D_cnn_block_three': 512, 'conv2D_cnn_block_two': 64, 'dropout_cnn_block_one': 0.12296684199091173, 'dropout_cnn_block_three': 0.646357795314271, 'dropout_cnn_block_two': 0.33477851039927575, 'dropout_dense_block_one': 0.48529210191428973, 'dropout_dense_block_two': 0.2632011198819794, 'epochs': 15.0}\n",
            "accurycy=0.9759637117385864\n",
            "{'batch_size': 120.0, 'conv2D_cnn_block_one': 32, 'conv2D_cnn_block_three': 512, 'conv2D_cnn_block_two': 64, 'dropout_cnn_block_one': 0.18279680478067062, 'dropout_cnn_block_three': 0.8777104855889295, 'dropout_cnn_block_two': 0.1722874281391169, 'dropout_dense_block_one': 0.4244919570526563, 'dropout_dense_block_two': 0.734264171185987, 'epochs': 12.0}\n",
            "accurycy=0.9818593859672546\n",
            "{'batch_size': 160.0, 'conv2D_cnn_block_one': 32, 'conv2D_cnn_block_three': 512, 'conv2D_cnn_block_two': 64, 'dropout_cnn_block_one': 0.34950085994218233, 'dropout_cnn_block_three': 0.44765046605053954, 'dropout_cnn_block_two': 0.2682952190523919, 'dropout_dense_block_one': 0.43503150822413905, 'dropout_dense_block_two': 0.8322784673520199, 'epochs': 15.0}\n",
            "accurycy=0.9789115786552429\n",
            "{'batch_size': 200.0, 'conv2D_cnn_block_one': 32, 'conv2D_cnn_block_three': 256, 'conv2D_cnn_block_two': 64, 'dropout_cnn_block_one': 0.4712598595274327, 'dropout_cnn_block_three': 0.4797337722099432, 'dropout_cnn_block_two': 0.3005478041296993, 'dropout_dense_block_one': 0.39256247271062733, 'dropout_dense_block_two': 0.20604086174726643, 'epochs': 12.0}\n",
            "accurycy=0.978458046913147\n",
            "{'batch_size': 150.0, 'conv2D_cnn_block_one': 32, 'conv2D_cnn_block_three': 128, 'conv2D_cnn_block_two': 128, 'dropout_cnn_block_one': 0.43318482371290046, 'dropout_cnn_block_three': 0.5242556353897422, 'dropout_cnn_block_two': 0.39184592818731556, 'dropout_dense_block_one': 0.6255508596638218, 'dropout_dense_block_two': 0.8914955521646912, 'epochs': 15.0}\n",
            "accurycy=0.9764172434806824\n",
            "{'batch_size': 170.0, 'conv2D_cnn_block_one': 32, 'conv2D_cnn_block_three': 512, 'conv2D_cnn_block_two': 64, 'dropout_cnn_block_one': 0.2236603574183279, 'dropout_cnn_block_three': 0.7576493749276899, 'dropout_cnn_block_two': 0.1345738136271462, 'dropout_dense_block_one': 0.5872824784450115, 'dropout_dense_block_two': 0.1401119457863514, 'epochs': 15.0}\n",
            "accurycy=0.9671201705932617\n",
            "{'batch_size': 180.0, 'conv2D_cnn_block_one': 32, 'conv2D_cnn_block_three': 512, 'conv2D_cnn_block_two': 64, 'dropout_cnn_block_one': 0.3998554449675048, 'dropout_cnn_block_three': 0.6124585239188067, 'dropout_cnn_block_two': 0.2007138903306927, 'dropout_dense_block_one': 0.4912032504301189, 'dropout_dense_block_two': 0.811065903161363, 'epochs': 12.0}\n",
            "accurycy=0.9739229083061218\n",
            "{'batch_size': 110.0, 'conv2D_cnn_block_one': 32, 'conv2D_cnn_block_three': 512, 'conv2D_cnn_block_two': 64, 'dropout_cnn_block_one': 0.2559623764521801, 'dropout_cnn_block_three': 0.7362912120996005, 'dropout_cnn_block_two': 0.2333292453153178, 'dropout_dense_block_one': 0.3160342635035072, 'dropout_dense_block_two': 0.39064032759963296, 'epochs': 15.0}\n",
            "accurycy=0.9893423914909363\n",
            "{'batch_size': 80.0, 'conv2D_cnn_block_one': 32, 'conv2D_cnn_block_three': 512, 'conv2D_cnn_block_two': 128, 'dropout_cnn_block_one': 0.14416907003764956, 'dropout_cnn_block_three': 0.5594479385692911, 'dropout_cnn_block_two': 0.33795373918930627, 'dropout_dense_block_one': 0.3184702276034995, 'dropout_dense_block_two': 0.582537802100678, 'epochs': 15.0}\n",
            "accurycy=0.9709750413894653\n",
            "{'batch_size': 110.0, 'conv2D_cnn_block_one': 32, 'conv2D_cnn_block_three': 256, 'conv2D_cnn_block_two': 64, 'dropout_cnn_block_one': 0.44583522985567703, 'dropout_cnn_block_three': 0.5894546850215902, 'dropout_cnn_block_two': 0.4520352821965433, 'dropout_dense_block_one': 0.36620169260021546, 'dropout_dense_block_two': 0.4023890235474374, 'epochs': 12.0}\n",
            "accurycy=0.9848072528839111\n",
            "{'batch_size': 90.0, 'conv2D_cnn_block_one': 32, 'conv2D_cnn_block_three': 128, 'conv2D_cnn_block_two': 64, 'dropout_cnn_block_one': 0.11698328860089979, 'dropout_cnn_block_three': 0.8474744767303763, 'dropout_cnn_block_two': 0.41591468722927705, 'dropout_dense_block_one': 0.30119655392298994, 'dropout_dense_block_two': 0.665829965905334, 'epochs': 12.0}\n",
            "accurycy=0.958730161190033\n",
            "{'batch_size': 100.0, 'conv2D_cnn_block_one': 32, 'conv2D_cnn_block_three': 512, 'conv2D_cnn_block_two': 128, 'dropout_cnn_block_one': 0.3120050468298249, 'dropout_cnn_block_three': 0.3958953896370732, 'dropout_cnn_block_two': 0.37032836159302396, 'dropout_dense_block_one': 0.5330966781038414, 'dropout_dense_block_two': 0.45684432759826604, 'epochs': 15.0}\n",
            "accurycy=0.97981858253479\n",
            "{'batch_size': 50.0, 'conv2D_cnn_block_one': 32, 'conv2D_cnn_block_three': 512, 'conv2D_cnn_block_two': 64, 'dropout_cnn_block_one': 0.4133338367409055, 'dropout_cnn_block_three': 0.6834213854480254, 'dropout_cnn_block_two': 0.2283989776915536, 'dropout_dense_block_one': 0.2556942239197485, 'dropout_dense_block_two': 0.7749237482098192, 'epochs': 15.0}\n",
            "accurycy=0.9108843803405762\n",
            "{'batch_size': 70.0, 'conv2D_cnn_block_one': 32, 'conv2D_cnn_block_three': 512, 'conv2D_cnn_block_two': 64, 'dropout_cnn_block_one': 0.3431281429887481, 'dropout_cnn_block_three': 0.8064163809671813, 'dropout_cnn_block_two': 0.1725286785345725, 'dropout_dense_block_one': 0.4653174617919773, 'dropout_dense_block_two': 0.2754056040281002, 'epochs': 15.0}\n",
            "accurycy=0.9632652997970581\n",
            "{'batch_size': 90.0, 'conv2D_cnn_block_one': 32, 'conv2D_cnn_block_three': 256, 'conv2D_cnn_block_two': 64, 'dropout_cnn_block_one': 0.2146192710081417, 'dropout_cnn_block_three': 0.5077046271199784, 'dropout_cnn_block_two': 0.2878378698252843, 'dropout_dense_block_one': 0.2857386841459151, 'dropout_dense_block_two': 0.6312769450727909, 'epochs': 12.0}\n",
            "accurycy=0.9818593859672546\n",
            "{'batch_size': 110.0, 'conv2D_cnn_block_one': 32, 'conv2D_cnn_block_three': 512, 'conv2D_cnn_block_two': 128, 'dropout_cnn_block_one': 0.3746379339808098, 'dropout_cnn_block_three': 0.7815402263680099, 'dropout_cnn_block_two': 0.48690512526429774, 'dropout_dense_block_one': 0.39369038394350936, 'dropout_dense_block_two': 0.8715990725219399, 'epochs': 12.0}\n",
            "accurycy=0.9383220076560974\n",
            "{'batch_size': 80.0, 'conv2D_cnn_block_one': 128, 'conv2D_cnn_block_three': 128, 'conv2D_cnn_block_two': 64, 'dropout_cnn_block_one': 0.10073939769332821, 'dropout_cnn_block_three': 0.6680534666272963, 'dropout_cnn_block_two': 0.3060252045943683, 'dropout_dense_block_one': 0.16586822078563618, 'dropout_dense_block_two': 0.539830126101063, 'epochs': 15.0}\n",
            "accurycy=0.9573696255683899\n",
            "{'batch_size': 100.0, 'conv2D_cnn_block_one': 32, 'conv2D_cnn_block_three': 512, 'conv2D_cnn_block_two': 64, 'dropout_cnn_block_one': 0.28403810769961013, 'dropout_cnn_block_three': 0.7400101500702154, 'dropout_cnn_block_two': 0.2682958246727285, 'dropout_dense_block_one': 0.5518827707552854, 'dropout_dense_block_two': 0.23890965123317187, 'epochs': 15.0}\n",
            "accurycy=0.9800453782081604\n",
            "100%|██████████| 100/100 [2:34:10<00:00, 92.50s/it, best loss: -0.9893423914909363]\n"
          ],
          "name": "stdout"
        }
      ]
    },
    {
      "cell_type": "code",
      "metadata": {
        "id": "sPGfLIJfHv73",
        "colab_type": "code",
        "colab": {}
      },
      "source": [
        ""
      ],
      "execution_count": 0,
      "outputs": []
    }
  ]
}